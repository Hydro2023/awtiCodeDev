{
 "cells": [
  {
   "cell_type": "markdown",
   "id": "31e8d3b0",
   "metadata": {},
   "source": [
    "# Module 5.1 - NetCDF\n",
    "\n",
    "Welcome to module 5.1! In this module we will explore NetCDF files. There are two main characteristics of NetCDF files: \n",
    "- They contain meta data\n",
    "- They are multidimensional\n",
    "\n",
    "We will look at these characteristics more closely during this module. \n",
    "\n",
    "## Opening a NetCDF file\n",
    "\n",
    "But first, let's open a NetCDF dataset. For this we need a specific Python package, called `xarray`. From `xarray` we will use the function `xr.open_dataset()` to open a NetCDF file. "
   ]
  },
  {
   "cell_type": "code",
   "execution_count": 1,
   "id": "bf6a99c7",
   "metadata": {},
   "outputs": [],
   "source": [
    "import xarray as xr\n",
    "ds = xr.open_dataset('temperatures.nc')"
   ]
  },
  {
   "cell_type": "markdown",
   "id": "60589798",
   "metadata": {},
   "source": [
    "## 1. Exploring the metadata of a NetCDF file\n",
    "\n",
    "Now that we have opened the NetCDF file and stored it into the variable `ds` (the abbreviation of dataset), we can explore the metadata. We can do this using the attributes of `ds`. Two useful attributes are:\n",
    "- `ds.keys` gives us a summary of the most relevant information\n",
    "- `ds.data_vars` gives us an overview of the data variables in this file, for our file this is only `air`\n",
    "\n",
    "Let's try them out:"
   ]
  },
  {
   "cell_type": "code",
   "execution_count": null,
   "id": "ca33b923",
   "metadata": {},
   "outputs": [],
   "source": [
    "ds.keys"
   ]
  },
  {
   "cell_type": "code",
   "execution_count": null,
   "id": "5648cb8c",
   "metadata": {},
   "outputs": [],
   "source": [
    "ds.data_vars"
   ]
  },
  {
   "cell_type": "markdown",
   "id": "71ca916c",
   "metadata": {},
   "source": [
    "Using `ds.data_vars` we see that this NetCDF file only contains data called `air`. We can explore this data by executing the code `ds.air`. \n",
    "- Run the following code and click on `>Attributes: (11)`. Try to understand what is inside this dataset."
   ]
  },
  {
   "cell_type": "code",
   "execution_count": null,
   "id": "456ce2bc",
   "metadata": {},
   "outputs": [],
   "source": [
    "ds.air"
   ]
  },
  {
   "cell_type": "markdown",
   "id": "b945915a",
   "metadata": {},
   "source": [
    "We see that the air dataset contains three dimension, namely `time`, `lat`, and `lon`, with lengths of respectively `886`, `360`, and `720`. This three dimensional dataset has in total over 200 million values. We can also observe that these values are montly means of surface temperature (see the attribute `long_name`) in degrees Kelvin (see the attribute `units`). \n",
    "\n",
    "So, we see that `ds.air` data is a 3D dataset, with dimensions `time`, `lat`, and `lon`. We can also take a look at the values of `time`, `lat`, and `lon`. These are the coordinates of the 3D dataset. \n",
    "\n",
    "**Exercise:** Take a look at the three dimensions by running the following three cells. For every dimension try to answer the following three questions:\n",
    "1. What is the unit of the values?\n",
    "2. What is the datatype of the values?\n",
    "3. What is the lowest and the highest value?"
   ]
  },
  {
   "cell_type": "code",
   "execution_count": null,
   "id": "38ad01d2",
   "metadata": {},
   "outputs": [],
   "source": [
    "ds.time"
   ]
  },
  {
   "cell_type": "code",
   "execution_count": null,
   "id": "79aec56a",
   "metadata": {},
   "outputs": [],
   "source": [
    "ds.lon"
   ]
  },
  {
   "cell_type": "code",
   "execution_count": null,
   "id": "adeb991a",
   "metadata": {
    "scrolled": true
   },
   "outputs": [],
   "source": [
    "ds.lat"
   ]
  },
  {
   "cell_type": "markdown",
   "id": "1aaf20f9",
   "metadata": {},
   "source": [
    "Now that we have looked at the metadata we now what is inside the dataset: we have surface temperatures (the data values), for the years 1948 up to 2021 (the first dimension), for all longitudes (the second dimension) and all latitudes (the third dimension)."
   ]
  },
  {
   "cell_type": "markdown",
   "id": "1d2763a0",
   "metadata": {},
   "source": [
    "## 2. Accessing multidimensional data\n",
    "\n",
    "Now that we have explored the metadata of our NetCDF file, we will now learn how to make selections out of this huge dataset. We will do this using **boolean slicing**. We have used boolean slicing before, mainly on dataframes. With dataframes we could select data in two dimensions: rows and columns. Using `.loc[]` we first made a selection for rows, and then a selection for columns, seperated by a comma. For example, `meteoData.loc[meteoData.Temp_Out > 20, 'Hum_Out']`. \n",
    "\n",
    "This time, however, instead of having two dimensions (rows and columns), we have three dimensions: `time`, `lat`, and `lon`. This means we can use three booleans expressions, seperated by a comma. Selecting data can be done like this:\n",
    "```python\n",
    "ds.air[booleans_for_selecting_time, booleans_for_selecting_longitudes, booleans_for_selecting_latitudes]\n",
    "```\n",
    "For example, if we want to select only the data for the years 2000 up to 2005, we can use the following code:"
   ]
  },
  {
   "cell_type": "code",
   "execution_count": 2,
   "id": "e11001a3",
   "metadata": {},
   "outputs": [
    {
     "name": "stdout",
     "output_type": "stream",
     "text": [
      "The data shape before selection: (886, 360, 720)\n",
      "The data shape after selection: (72, 360, 720)\n"
     ]
    }
   ],
   "source": [
    "import pandas as pd\n",
    "\n",
    "starttime = pd.to_datetime('2000')\n",
    "endtime = pd.to_datetime('2006')\n",
    "temps_2000_2005 = ds.air[(ds.time >= starttime) & (ds.time < endtime), :, :]\n",
    "\n",
    "print('The data shape before selection:', ds.air.shape)\n",
    "print('The data shape after selection:', temps_2000_2005.shape)"
   ]
  },
  {
   "cell_type": "markdown",
   "id": "8683a14a",
   "metadata": {},
   "source": [
    "We used boolean expressions to select values from the `time` dimension and we selected all values from the `lon` dimension and the `lat` dimension (by using `:`). The selection was succesful, because we see that the first dimension has decreased in size. "
   ]
  },
  {
   "cell_type": "markdown",
   "id": "0a97c3f3",
   "metadata": {},
   "source": [
    "## Exercise - Selecting time periods\n",
    "\n",
    "Now you will select part of data yourself. Assign the selection to a new variable and check the shape of the variable using the attribute `.shape`. If the selection was successful, the shape should be the same as the shape mention in the exercise. \n",
    "\n",
    "Using the dataset `ds.air`, select the following time periods:\n",
    "\n",
    "1. The years 2010 to 2015, shape of selection: `(72, 360, 720)`\n",
    "2. Only the year 1950, shape of selection: `(12, 360, 720)`\n",
    "3. From January 2017 to March 2020, shape of selection: `(39, 360, 720)`"
   ]
  },
  {
   "cell_type": "code",
   "execution_count": null,
   "id": "08fb5c10",
   "metadata": {},
   "outputs": [],
   "source": [
    "#1"
   ]
  },
  {
   "cell_type": "code",
   "execution_count": null,
   "id": "db15cf93",
   "metadata": {},
   "outputs": [],
   "source": [
    "#2"
   ]
  },
  {
   "cell_type": "code",
   "execution_count": null,
   "id": "1b92304d",
   "metadata": {},
   "outputs": [],
   "source": [
    "#3"
   ]
  },
  {
   "cell_type": "markdown",
   "id": "e184e332",
   "metadata": {},
   "source": [
    "Instead of selecting only time periods, we can also select countries. For this we need the longitude and latitude boundaries in which the country is located. For example, the boundaries of Ethiopia are: \n",
    "```python \n",
    "latmin = 3\n",
    "latmax = 16\n",
    "lonmin = 32\n",
    "lonmax = 48\n",
    "```\n",
    "Just as with time, we can use the values in `ds.lon` and `ds.lat` for boolean slicing. To select the data for only Ethiopia, we want only the temperatures for which the latitude is larger than `latmin` and smaller than `latmax`, and for which the longitude is larger than `lonmin` and smaller than `lonmax`. This selection looks like this:"
   ]
  },
  {
   "cell_type": "code",
   "execution_count": 7,
   "id": "1ba3c5e4",
   "metadata": {},
   "outputs": [
    {
     "name": "stdout",
     "output_type": "stream",
     "text": [
      "The data shape before selection: (886, 360, 720)\n",
      "The data shape after selection: (886, 26, 32)\n"
     ]
    }
   ],
   "source": [
    "# Defining the boundaries\n",
    "latmin = 3\n",
    "latmax = 16\n",
    "lonmin = 32\n",
    "lonmax = 48\n",
    "\n",
    "# Using the boundaries and the values of ds.lon and ds.lat to select Ethiopia\n",
    "temps_ethiopia = ds.air[:, (ds.lat > latmin) & (ds.lat < latmax), (ds.lon > lonmin) & (ds.lon < lonmax)]\n",
    "\n",
    "print('The data shape before selection:', ds.air.shape)\n",
    "print('The data shape after selection:', temps_ethiopia.shape)"
   ]
  },
  {
   "cell_type": "markdown",
   "id": "8b0e6d4b",
   "metadata": {},
   "source": [
    "Now we see that length of the `time` dimension has not changed, and that the length of the dimensions `lat` and `lon` have decreased. \n",
    "\n",
    "## Exercise - Selecting regions\n",
    "\n",
    "Now you will try this yourself. Just as in the previous exercise, assign the selection to a new variable and check the shape of the variable using the attribute `.shape`. If the selection was successful, the shape should be the same as the shape mention in the exercise.\n",
    "\n",
    "Using the dataset ds.air, select the following regions:\n",
    "\n",
    "1. North-America \n",
    "    - `latmin = 7`, `latmax = 85`, `lonmin = 210`, `lonmax = 310`\n",
    "    - Shape of selection: `(886, 156, 200)`\n",
    "2. Europe \n",
    "    - `latmin = 35`, `latmax = 60`, `lonmin = 0`, `lonmax = 36`\n",
    "    - Shape of selection: `(886, 50, 72)`\n",
    "3. Italy \n",
    "    - `latmin = 35`, `latmax = 46`, `lonmin = 7`, `lonmax = 20`\n",
    "    - Shape of selection: `(886, 22, 26)`"
   ]
  },
  {
   "cell_type": "code",
   "execution_count": null,
   "id": "93e611c3",
   "metadata": {},
   "outputs": [],
   "source": [
    "#1"
   ]
  },
  {
   "cell_type": "code",
   "execution_count": null,
   "id": "1714af53",
   "metadata": {},
   "outputs": [],
   "source": [
    "#2"
   ]
  },
  {
   "cell_type": "code",
   "execution_count": null,
   "id": "fd87cfbe",
   "metadata": {},
   "outputs": [],
   "source": [
    "#3"
   ]
  },
  {
   "cell_type": "markdown",
   "id": "436ab6f8",
   "metadata": {},
   "source": [
    "Now that we know how to select both time periods and regions, we can also combine these two selections. For example, we can select the surface temperatures of Ethiopia for the years 2010 to 2020. One way to do this:"
   ]
  },
  {
   "cell_type": "code",
   "execution_count": 5,
   "id": "d1b32107",
   "metadata": {},
   "outputs": [
    {
     "name": "stdout",
     "output_type": "stream",
     "text": [
      "The data shape before selection: (886, 360, 720)\n",
      "The data shape after selection: (132, 26, 32)\n"
     ]
    }
   ],
   "source": [
    "# Selecting the years 2010 to 2020\n",
    "starttime = pd.to_datetime('2010')\n",
    "endtime = pd.to_datetime('2021')\n",
    "temps_2010_2020 = ds.air[(ds.time >= starttime) & (ds.time < endtime), :, :]\n",
    "\n",
    "# Selecting Ethiopia\n",
    "latmin = 3\n",
    "latmax = 16\n",
    "lonmin = 32\n",
    "lonmax = 48\n",
    "\n",
    "temps_2010_2020_ethiopia = temps_2010_2020[:, (ds.lat > latmin) & (ds.lat < latmax), (ds.lon > lonmin) & (ds.lon < lonmax)]\n",
    "\n",
    "print('The data shape before selection:', ds.air.shape)\n",
    "print('The data shape after selection:', temps_2010_2020_ethiopia.shape)"
   ]
  },
  {
   "cell_type": "markdown",
   "id": "32d59d21",
   "metadata": {},
   "source": [
    "## Exercise - Selecting time periods and regions\n",
    "\n",
    "1. The temperatures in North-America for the year 2019 \n",
    "    - `latmin = 7`, `latmax = 85`, `lonmin = 210`, `lonmax = 310`\n",
    "    - Shape of selection: `(12, 156, 200)`\n",
    "2. The temperatures in Europe for the years 1980 to 1990 \n",
    "    - `latmin = 35`, `latmax = 60`, `lonmin = 0`, `lonmax = 36`)\n",
    "    - Shape of selection: `(132, 50, 72)`\n"
   ]
  },
  {
   "cell_type": "code",
   "execution_count": null,
   "id": "b2ae9b10",
   "metadata": {},
   "outputs": [],
   "source": [
    "#1"
   ]
  },
  {
   "cell_type": "code",
   "execution_count": null,
   "id": "0399897e",
   "metadata": {},
   "outputs": [],
   "source": [
    "#2"
   ]
  },
  {
   "cell_type": "markdown",
   "id": "1dbb160a",
   "metadata": {},
   "source": [
    "## 3. Mathematics on multidimensional data\n",
    "\n",
    "Now that we know how to select data, we can also do calculations on the selections. This can be done using functions from the package `numpy`. In module 3 we have worked with some `numpy` functions like `np.max()`, `np.min()` and `np.mean()`.\n",
    "\n",
    "Conveniently, with `numpy` functions we can choose the dimension(s) on which we want to do the calculations, by using the argument `axis=` inside the function. \n",
    "\n",
    "For example, if we have selected the region of Ethiopia and we want to calculate what the average is of the temperature through the years, we can apply the `np.mean()` function on the `time` dimension. Since the `time` dimension is the first dimension, we will set the argument to `axis=0` (the first dimension has index 0).  "
   ]
  },
  {
   "cell_type": "code",
   "execution_count": 8,
   "id": "fc1736af",
   "metadata": {},
   "outputs": [
    {
     "name": "stdout",
     "output_type": "stream",
     "text": [
      "Shape of temps_ethiopia before taking the mean: (886, 26, 32)\n",
      "Shape of temps_ethiopia after taking the mean: (26, 32)\n"
     ]
    }
   ],
   "source": [
    "# We use temps_ethiopia from an example above\n",
    "import numpy as np\n",
    "temps_ethiopia_time_mean = np.mean(temps_ethiopia, axis=0)\n",
    "\n",
    "print('Shape of temps_ethiopia before taking the mean:', temps_ethiopia.shape)\n",
    "print('Shape of temps_ethiopia after taking the mean:', temps_ethiopia_time_mean.shape)"
   ]
  },
  {
   "cell_type": "markdown",
   "id": "8c55ec8d",
   "metadata": {},
   "source": [
    "We see that the `time` dimension has disappeared because of taking the mean. The `lat` and `lon` dimensions remained the same.\n",
    "\n",
    "When you have data with only lat and lon dimensions, xarray files have a built-in function `.plot()` by which you can easily plot the data. We will use this on our average temperatures of Ethiopia. "
   ]
  },
  {
   "cell_type": "code",
   "execution_count": 12,
   "id": "a55c05bc",
   "metadata": {
    "scrolled": false
   },
   "outputs": [
    {
     "data": {
      "text/plain": [
       "<matplotlib.collections.QuadMesh at 0x1bea66b2ef0>"
      ]
     },
     "execution_count": 12,
     "metadata": {},
     "output_type": "execute_result"
    },
    {
     "data": {
      "image/png": "[encoded data removed]",
      "text/plain": [
       "<Figure size 640x480 with 2 Axes>"
      ]
     },
     "metadata": {},
     "output_type": "display_data"
    }
   ],
   "source": [
    "temps_ethiopia_time_mean.plot()"
   ]
  },
  {
   "cell_type": "markdown",
   "id": "05b23ec8",
   "metadata": {},
   "source": [
    "Instead of taking the average over the `time` dimension, we can also take the average over the `lat` and `lon` dimensions. To do this we must use these two dimensions as input to the `axis=` argument. When you use multiple dimensions, you should put them into a tuple (a tuple is like a list, but with round brackets, e.g., `(1, 2, 3, 4)`)."
   ]
  },
  {
   "cell_type": "code",
   "execution_count": 10,
   "id": "eab07509",
   "metadata": {},
   "outputs": [
    {
     "name": "stdout",
     "output_type": "stream",
     "text": [
      "Shape of temps_ethiopia before taking the mean: (886, 26, 32)\n",
      "Shape of temps_ethiopia after taking the mean: (886,)\n"
     ]
    }
   ],
   "source": [
    "temps_ethiopia_region_mean = np.mean(temps_ethiopia, axis=(1, 2))\n",
    "\n",
    "print('Shape of temps_ethiopia before taking the mean:', temps_ethiopia.shape)\n",
    "print('Shape of temps_ethiopia after taking the mean:', temps_ethiopia_region_mean.shape)"
   ]
  },
  {
   "cell_type": "markdown",
   "id": "9125926f",
   "metadata": {},
   "source": [
    "As you can see, now the `lat` and `lon` dimensions have disappeared. Let's now also plot this data. Because we now only have one dimension left, the `.plot()` function will create a lineplot, showing the average temperature of Ethiopia over time. "
   ]
  },
  {
   "cell_type": "code",
   "execution_count": 11,
   "id": "8e5ee8b8",
   "metadata": {
    "scrolled": false
   },
   "outputs": [
    {
     "data": {
      "text/plain": [
       "[<matplotlib.lines.Line2D at 0x1bea5d3a440>]"
      ]
     },
     "execution_count": 11,
     "metadata": {},
     "output_type": "execute_result"
    },
    {
     "data": {
      "image/png": "[encoded data removed]",
      "text/plain": [
       "<Figure size 640x480 with 1 Axes>"
      ]
     },
     "metadata": {},
     "output_type": "display_data"
    }
   ],
   "source": [
    "temps_ethiopia_region_mean.plot()"
   ]
  },
  {
   "cell_type": "markdown",
   "id": "a4e2ec34",
   "metadata": {},
   "source": [
    "## Exercise - Mathematics on multidimensional data\n",
    "\n",
    "1. South-America\n",
    "    - Select the temperature data for the region South-America (-60, 20, 260, 345)\n",
    "    - Calculate the maximum temperature over the `time` dimension, using `np.max(..., axis=...)`\n",
    "    - Plot the data, using `data_selection.plot()`\n",
    "2. India \n",
    "    - Select the region India (2, 40, 50, 100)\n",
    "    - Calculate the mean over time\n",
    "    - Plot the selection\n",
    "3. Horn of Africa\n",
    "    - Select the years 2000 to 2020\n",
    "    - Select the region Horn of Africa (-3, 19, 30, 60)\n",
    "    - Calculate the mean over the region (dimensions `lat` and `lon`)\n",
    "    - Plot the selection "
   ]
  },
  {
   "cell_type": "code",
   "execution_count": null,
   "id": "1ca03b82",
   "metadata": {},
   "outputs": [],
   "source": [
    "#1"
   ]
  },
  {
   "cell_type": "code",
   "execution_count": null,
   "id": "5207c19e",
   "metadata": {},
   "outputs": [],
   "source": [
    "#2"
   ]
  },
  {
   "cell_type": "code",
   "execution_count": null,
   "id": "525603da",
   "metadata": {},
   "outputs": [],
   "source": [
    "#3"
   ]
  },
  {
   "cell_type": "markdown",
   "id": "c66051a8",
   "metadata": {},
   "source": [
    "## Additional exercise - Exploring unknown NetCDF files\n",
    "\n",
    "On you computer you have the files `unknown1.nc` and `unknown2.nc`. These are NetCDF files, but the content is not known. Your task in this exercise is to explore these NetCDF file. We will start with the file `unknown1.nc`.\n",
    "\n",
    "1. Open the NetCDF file using xarray and save it to a variable"
   ]
  },
  {
   "cell_type": "code",
   "execution_count": null,
   "id": "4448874a",
   "metadata": {
    "scrolled": true
   },
   "outputs": [],
   "source": [
    "#1"
   ]
  },
  {
   "cell_type": "markdown",
   "id": "a5964956",
   "metadata": {},
   "source": [
    "2. Check what datasets are inside by using the attribute `.data_vars`"
   ]
  },
  {
   "cell_type": "code",
   "execution_count": null,
   "id": "ce271a66",
   "metadata": {},
   "outputs": [],
   "source": [
    "#2"
   ]
  },
  {
   "cell_type": "markdown",
   "id": "ed9ac918",
   "metadata": {},
   "source": [
    "3. Investigate every dataset and for every dataset try to answer the following questions:\n",
    "    - What kind of data is it? \n",
    "    - What are the data units?\n",
    "    - What are the dimensions of the dataset? "
   ]
  },
  {
   "cell_type": "code",
   "execution_count": null,
   "id": "7aa6d836",
   "metadata": {},
   "outputs": [],
   "source": [
    "#3"
   ]
  },
  {
   "cell_type": "markdown",
   "id": "fc28a527",
   "metadata": {},
   "source": [
    "4. Choose one of the datasets and complete the following exercises for this dataset\n",
    "5. Investigate the dimensions of the dataset. Try to answer the following questions:\n",
    "    - What are the lengths of the dimensions?\n",
    "    - What are the datatypes of the dimensions?\n",
    "    - What are the highest and the lowest values of the dimensions?"
   ]
  },
  {
   "cell_type": "code",
   "execution_count": null,
   "id": "dca2fa53",
   "metadata": {},
   "outputs": [],
   "source": [
    "#5"
   ]
  },
  {
   "cell_type": "markdown",
   "id": "6af5fe02",
   "metadata": {},
   "source": [
    "6. Try to make one nice and relevant selection/calculation/plot using the dataset that you chose"
   ]
  },
  {
   "cell_type": "code",
   "execution_count": null,
   "id": "aff9ac97",
   "metadata": {},
   "outputs": [],
   "source": [
    "#6"
   ]
  },
  {
   "cell_type": "markdown",
   "id": "f7e4200a",
   "metadata": {},
   "source": [
    "Now, let's explore the second unknown NetCDF file, `unknown2.nc`. Again, do the following things:\n",
    "1. Load the file\n",
    "2. Check what datasets are inside\n",
    "3. Explore the datasets\n",
    "4. Try to make some meaningful calculations and plots"
   ]
  },
  {
   "cell_type": "code",
   "execution_count": null,
   "id": "54d86033",
   "metadata": {},
   "outputs": [],
   "source": [
    "# Your code here"
   ]
  }
 ],
 "metadata": {
  "kernelspec": {
   "display_name": "Python 3 (ipykernel)",
   "language": "python",
   "name": "python3"
  },
  "language_info": {
   "codemirror_mode": {
    "name": "ipython",
    "version": 3
   },
   "file_extension": ".py",
   "mimetype": "text/x-python",
   "name": "python",
   "nbconvert_exporter": "python",
   "pygments_lexer": "ipython3",
   "version": "3.9.12"
  }
 },
 "nbformat": 4,
 "nbformat_minor": 5
}
