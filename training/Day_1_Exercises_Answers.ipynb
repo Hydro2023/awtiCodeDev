{
 "cells": [
  {
   "cell_type": "markdown",
   "metadata": {},
   "source": [
    "# Print\n",
    "\n",
    "- If you want to communicate with a program, the first step is to let the computer speak. This is accomplished trough the ```print()``` function. A function is a program activity, for example the ```print()``` function prints words on your screen, there are many more.\n",
    "- Computers cannot see the difference between code and plain text, that is why you should always put plain text between ```\"\"``` to let the computer understand that it is not part of the code.\n",
    "    - For example: \n",
    "    ``` print (\"genome\") ```. ```print``` is the function and part of the code, and ```\"genome\"``` is the word that should be printed. \n",
    "    - Click on the cell below and press control + enter to execute the code"
   ]
  },
  {
   "cell_type": "code",
   "execution_count": null,
   "metadata": {},
   "outputs": [],
   "source": [
    "print (\"genome\")"
   ]
  },
  {
   "cell_type": "code",
   "execution_count": null,
   "metadata": {},
   "outputs": [],
   "source": [
    "print (\"Hello world!\")"
   ]
  },
  {
   "cell_type": "markdown",
   "metadata": {},
   "source": [
    "- Now try yourself to let the computer print the word mitochondria"
   ]
  },
  {
   "cell_type": "code",
   "execution_count": null,
   "metadata": {},
   "outputs": [],
   "source": [
    "print (\"mitochondria\")"
   ]
  },
  {
   "cell_type": "markdown",
   "metadata": {},
   "source": [
    "# Variables\n",
    "- Lets make a variable:\n",
    "    - A variable is an object in which information can be stored.\n",
    "    - The variable has a name and a value. The name is used to refer to the variable in the code\n",
    "    - The name of the variable can not contain spaces\n",
    "- In the next example the variable named ```first_name``` is assigned the value ```\"John\"```\n",
    "    - ```first_name``` is the name of the variable. The name of a variable is part of code and that is why it is not between ```\"\"```.\n",
    "    - ```\"John\"``` is written between ```\"\"``` to tell the computer that this is plaintext"
   ]
  },
  {
   "cell_type": "code",
   "execution_count": null,
   "metadata": {},
   "outputs": [],
   "source": [
    "first_name = \"John\" # Assigns string \"John\" to variable first_name \n",
    "print (first_name)       # Prints variable first_name"
   ]
  },
  {
   "cell_type": "code",
   "execution_count": null,
   "metadata": {},
   "outputs": [],
   "source": [
    "some_variable = \"John\" # Assigns string \"John\" to variable some_variable \n",
    "print (some_variable)        # Prints variable some_variable"
   ]
  },
  {
   "cell_type": "code",
   "execution_count": null,
   "metadata": {},
   "outputs": [],
   "source": [
    "apple = \"John\" # Assigns string \"John\" to variable apple \n",
    "print (apple) # Prints variable apple"
   ]
  },
  {
   "cell_type": "code",
   "execution_count": null,
   "metadata": {},
   "outputs": [],
   "source": [
    "john = \"John\" # Assigns string \"John\" to variable john\n",
    "print (john) # Prints variable john"
   ]
  },
  {
   "cell_type": "code",
   "execution_count": null,
   "metadata": {},
   "outputs": [],
   "source": [
    "xyz = \"John\" # Assigns string \"John\" to variable xyz\n",
    "print (xyz) # Prints variable xyz"
   ]
  },
  {
   "cell_type": "markdown",
   "metadata": {},
   "source": [
    "# Exercise:\n",
    "- Print your first name using a new variable. \n",
    "    - Print your surname using a new variable. \n",
    "    - Can you print both your first and surname using two variables?\n",
    "        - Hint: you can print multiple things by putting a ```+``` between them. \n",
    "        - For example \n",
    "            - ```python\n",
    "            print (\"mito\" + \"chondria\")``` \n",
    "            - The output is: mitochondria\n",
    "        - Try to play around until you get a feeling for it"
   ]
  },
  {
   "cell_type": "code",
   "execution_count": null,
   "metadata": {},
   "outputs": [],
   "source": [
    "# new variable for first name\n",
    "first_name = \"John\""
   ]
  },
  {
   "cell_type": "code",
   "execution_count": null,
   "metadata": {},
   "outputs": [],
   "source": [
    "# new variable for surname\n",
    "last_name = \"van Dam\"       # Adds string \"van Dam\" to variable last_name "
   ]
  },
  {
   "cell_type": "code",
   "execution_count": null,
   "metadata": {},
   "outputs": [],
   "source": [
    "# print your surname\n",
    "print (last_name)             # Prints variable last_name"
   ]
  },
  {
   "cell_type": "code",
   "execution_count": null,
   "metadata": {},
   "outputs": [],
   "source": [
    "# print your first and surname on one line\n",
    "print (first_name, last_name) # Prints both first_name and last_name\n",
    "print (first_name + \" \" + last_name) # Other way to print first_name and last_name"
   ]
  },
  {
   "cell_type": "markdown",
   "metadata": {},
   "source": [
    "# Strings - methods \n",
    "- All variable types have build in methods to manipulate them. \n",
    "- A method is placed after the variable with a ```.``` between them and nearly always end with ```()```\n",
    "- For example: \n",
    "    ```python\n",
    "      name = \"john\" \n",
    "      print (name.upper())\n",
    "    ```\n",
    "- For some methods additional information has to be provided, this information is given between the ```()```.\n",
    "    - For example, ```name.count(\"g\")``` counts all the g's in the name, and ```name.count(\"a\")``` counts all the a's"
   ]
  },
  {
   "cell_type": "code",
   "execution_count": null,
   "metadata": {},
   "outputs": [],
   "source": [
    "name = \"Johnathan\"        #assigns the string \"Johnathan\" to variable name"
   ]
  },
  {
   "cell_type": "code",
   "execution_count": null,
   "metadata": {},
   "outputs": [],
   "source": [
    "print (name.upper())            #prints the variable in uppercase"
   ]
  },
  {
   "cell_type": "code",
   "execution_count": null,
   "metadata": {},
   "outputs": [],
   "source": [
    "print (name.lower())            #prints the variable in lowercase"
   ]
  },
  {
   "cell_type": "code",
   "execution_count": null,
   "metadata": {},
   "outputs": [],
   "source": [
    "print(name.capitalize())         #prints the variable with a captial"
   ]
  },
  {
   "cell_type": "code",
   "execution_count": null,
   "metadata": {},
   "outputs": [],
   "source": [
    "print (name.count(\"a\"))         #counts the number of a's in the variable"
   ]
  },
  {
   "cell_type": "code",
   "execution_count": null,
   "metadata": {},
   "outputs": [],
   "source": [
    "print (name.count(\"o\"))         #counts the number of o's in the variable"
   ]
  },
  {
   "cell_type": "code",
   "execution_count": null,
   "metadata": {},
   "outputs": [],
   "source": [
    "print (name.count(\"c\"))         #counts the number of c's in the variable"
   ]
  },
  {
   "cell_type": "code",
   "execution_count": null,
   "metadata": {},
   "outputs": [],
   "source": [
    "print (name.replace(\"n\", \"m\"))  #replaces the n's with m's"
   ]
  },
  {
   "cell_type": "code",
   "execution_count": null,
   "metadata": {},
   "outputs": [],
   "source": [
    "print (name.replace(\"h\", \"\"))   \n",
    "#replaces all the h's with nothing, removing the letter"
   ]
  },
  {
   "cell_type": "code",
   "execution_count": null,
   "metadata": {},
   "outputs": [],
   "source": [
    "superman = \"Johnathan\"           \n",
    "#assigns the string \"Johnathan\" to variable superman\\"
   ]
  },
  {
   "cell_type": "code",
   "execution_count": null,
   "metadata": {},
   "outputs": [],
   "source": [
    "print (superman.upper())            #prints the variable in uppercase"
   ]
  },
  {
   "cell_type": "code",
   "execution_count": null,
   "metadata": {},
   "outputs": [],
   "source": [
    "#you can also assign the result of these methods into a variable instead of printing.\n",
    "#for example\n",
    "count_a = name.count(\"a\")\n",
    "count_o = name.count(\"o\")"
   ]
  },
  {
   "cell_type": "code",
   "execution_count": null,
   "metadata": {},
   "outputs": [],
   "source": [
    "#you can then use these variables for other purposes, such as mathematics(will be discussed later)\n",
    "print (count_a + count_o)"
   ]
  },
  {
   "cell_type": "markdown",
   "metadata": {},
   "source": [
    "## Python tricks\n",
    "1. A convenient tool to use in Python is the tab to quickly scroll through options/saved variables etc.Try it out!\n",
    "2. Another useful option in Python, is the Kernel refresh option. Sometimes, on the left of the cell an asterix appears; if this happens, it means that Python is busy running your script. \n",
    "Sometimes however it gets stuck, then its best to refresh, either the output of the cell (cell > current output > clear) or the whole kernel (kernel > restart & clear output)"
   ]
  },
  {
   "cell_type": "markdown",
   "metadata": {},
   "source": [
    "# Comments\n",
    "- Comments start with # \n",
    "- Useful for: \n",
    "    - Explaining code or your program \n",
    "    - Disable parts of your program "
   ]
  },
  {
   "cell_type": "code",
   "execution_count": null,
   "metadata": {},
   "outputs": [],
   "source": [
    "# This is an example script using comments\n",
    "print (\"Comment example script\")\n",
    "# print \"This will not print\"\n",
    "print (\"This will print\")"
   ]
  },
  {
   "cell_type": "markdown",
   "metadata": {},
   "source": [
    "## Exercise:\n",
    "1. Assign a variable with a name of your favourite protein\n",
    "2. Print this variable in uppercase.\n",
    "3. Print the number of \"a\" and the number of \"e\" in that name\n",
    "4. Replace a letter in the name of the protein with \"d\""
   ]
  },
  {
   "cell_type": "code",
   "execution_count": null,
   "metadata": {},
   "outputs": [],
   "source": [
    "# 1.Assign a variable with a name of your favourite protein\n",
    "eiwit = \"Hemoglobin\""
   ]
  },
  {
   "cell_type": "code",
   "execution_count": null,
   "metadata": {},
   "outputs": [],
   "source": [
    "# 2.Print this variable in uppercase.\n",
    "print (eiwit.upper())"
   ]
  },
  {
   "cell_type": "code",
   "execution_count": null,
   "metadata": {},
   "outputs": [],
   "source": [
    "# 3.Print the number of \"a\" and the number of \"e\" in that name\n",
    "print (\"number of a: \")\n",
    "print (eiwit.count(\"a\")) \n",
    "print (\"number of e:\") \n",
    "print (eiwit.upper())\n",
    "print (eiwit.count(\"e\"))\n",
    "print (len(eiwit))"
   ]
  },
  {
   "cell_type": "code",
   "execution_count": null,
   "metadata": {},
   "outputs": [],
   "source": [
    "# 4.Replace a letter in the name of the protein with \"d\"\n",
    "print (eiwit.replace(\"o\",\"A\"))"
   ]
  },
  {
   "cell_type": "markdown",
   "metadata": {},
   "source": [
    "## Exercise: Strings – Methods\n",
    "\n",
    "   1. Create a variable containing a made-up DNA sequence in lower-case i.e. \"agctcatcatctgagctagcatgctacgc\".\n",
    "   2. Print the DNA sequence in uppercase \n",
    "   3. Count the number of A, C, G and T’s within the sequence and assign the results to a variable\n",
    "   4. Print all the variables\n",
    "   5. Replace all A’s with T’s and print the sequence\n",
    "   - Time remaining? \n",
    "        - Try other string methods as can be found on the internet (see slides)"
   ]
  },
  {
   "cell_type": "code",
   "execution_count": null,
   "metadata": {},
   "outputs": [],
   "source": [
    "# 1.Create a variable containing a made-up DNA sequence in lower-case\n",
    "dna = \"actgactgtcagtagtcgcatatgcatgcatcgat\" # Adds the sequence as a string to the variable called dna"
   ]
  },
  {
   "cell_type": "code",
   "execution_count": null,
   "metadata": {},
   "outputs": [],
   "source": [
    "# 2.Print the DNA sequence in uppercase \n",
    "print (dna.upper()) # doesn't change the varible entry, show the sequence in uppercase"
   ]
  },
  {
   "cell_type": "code",
   "execution_count": null,
   "metadata": {},
   "outputs": [],
   "source": [
    "# 3.Count and the number of A, C, G and T’s within the sequence and assign the results to a variable\n",
    "count_a = dna.count(\"a\") # .count(\"a\") counts the number of \"a\" in variable dna and adds the number to variable count_a\n",
    "count_c = dna.count(\"c\") # .count(\"c\") counts the number of \"c\" in variable dna and adds the number to variable count_c\n",
    "count_g = dna.count(\"g\") # .count(\"g\") counts the number of \"g\" in variable dna and adds the number to variable count_g\n",
    "count_t = dna.count(\"t\") # .count(\"t\") counts the number of \"t\" in variable dna and adds the number to variable count_t"
   ]
  },
  {
   "cell_type": "code",
   "execution_count": null,
   "metadata": {},
   "outputs": [],
   "source": [
    "# 4.Print all the variables storing the count\n",
    "print (count_a) # print the entry in variable count_a\n",
    "print (count_c) # print the entry in variable count_c\n",
    "print (count_g) # print the entry in variable count_g\n",
    "print (count_t) # print the entry in variable count_t\n",
    "## or\n",
    "print (\"a:\",count_a,\"c:\",count_c,\" g:\",count_g,\" t:\",count_t)"
   ]
  },
  {
   "cell_type": "code",
   "execution_count": null,
   "metadata": {},
   "outputs": [],
   "source": [
    "# 5.Replace all A’s with T’s and print the sequence\n",
    "# .replace(\"a\",\"t\") replaces all \"a\" in varibable dna with \"t\" the result is added to variable new_dna\n",
    "new_dna = dna.replace(\"a\",\"t\") \n",
    "print (new_dna) # print the entry in new_dna\n",
    "\n",
    "print (\"a in dna:\", count_a) # print \"a in dna:\" followed by the entry in variable count_a\n",
    "print (\"a in new_dna:\",new_dna.count(\"a\")) # print \"a in new_dna:\" followed by the number of \"a\" in variable new_dna"
   ]
  },
  {
   "cell_type": "markdown",
   "metadata": {},
   "source": [
    "# Strings – Operators\n",
    "- Operators can be used to perform \"mathematics\" with words\n",
    "- ```+``` Joins/Concatenates two strings together\n",
    "- ```*``` Repetition of a string \n",
    "- A string can be seen as a list of characters. Each item in a list has an index, which is the place in the list. Python starts counting indices at 0, so the first item in the list has index 0, the second item has index 1 etc etc\n",
    "    - ```\"cell\"[n]``` returns the <i>'n'</i>th character of the string. **Keep in mind python starts counting lists at index 0.**\n",
    "        - for example: ```\"lysosome\"[5]``` returns the 6th character (o)\n",
    "    - ```\"cell\"[x:y]``` returns all the items from index x to index y (so not including the item at index y).\n",
    "        - for example: ```\"lysosome\"[3:5]``` returns the fourth and fifth character(os)\n",
    "    - ```len(\"ABCDEF\")``` returns the length of the list(number of characters in the string in this case)"
   ]
  },
  {
   "cell_type": "code",
   "execution_count": null,
   "metadata": {},
   "outputs": [],
   "source": [
    "print (\"ABC\" + \"DEF\") # concatenate, makes one string out of string \"ABC\" and string \"DEF\""
   ]
  },
  {
   "cell_type": "code",
   "execution_count": null,
   "metadata": {},
   "outputs": [],
   "source": [
    "print (\"ABC\" * 2) # makes one string out of 2 times string \"ABC\" "
   ]
  },
  {
   "cell_type": "code",
   "execution_count": null,
   "metadata": {},
   "outputs": [],
   "source": [
    "print (\"ABCDEF\"[3]) # returns the 4th letter (index 3 is value 4, as Python counts from 0)\n",
    "print (\"ABCDEF\"[0])"
   ]
  },
  {
   "cell_type": "code",
   "execution_count": null,
   "metadata": {},
   "outputs": [],
   "source": [
    "# Selection of the last characters in a string. \n",
    "print(\"ABCDEF\"[5])\n",
    "# Counting backwards is possible as well; try to print the last character in a different way than selecting index 5\n",
    "print (\"ABCDEF\"[-1])\n",
    "print (\"ABCDEF\"[-2])"
   ]
  },
  {
   "cell_type": "code",
   "execution_count": null,
   "metadata": {},
   "outputs": [],
   "source": [
    "print (\"ABCDEF\"[2:4]) # returns the 3th and 4th letter (index 2 is value 3 and index 3 is value 4, as Python counts from 0)\n",
    "# index 2:4 means 2 to 4, so the 4th index is not given"
   ]
  },
  {
   "cell_type": "code",
   "execution_count": null,
   "metadata": {},
   "outputs": [],
   "source": [
    "print (\"ABCDEF\"[3:4]) # retruns the 4th letter, same as \"ABCDEF\"[3]"
   ]
  },
  {
   "cell_type": "code",
   "execution_count": null,
   "metadata": {},
   "outputs": [],
   "source": [
    "print (len(\"ABCDEF\")) # returns the length / number of characters of the string"
   ]
  },
  {
   "cell_type": "code",
   "execution_count": null,
   "metadata": {},
   "outputs": [],
   "source": [
    "#these operators also work with variables!\n",
    "dna = \"acgtacgtagcatcgatcgatcgatcgatcgatcgacgtagctagcatcgcatg\"\n",
    "print (len(dna))          #prints the length of the string(amount of characters)"
   ]
  },
  {
   "cell_type": "code",
   "execution_count": null,
   "metadata": {},
   "outputs": [],
   "source": [
    "print (dna[5])            #prints the character at index 5(6th character)\n",
    "print (dna[0])            #prints the character at index 0(1st character)\n",
    "print (dna[0:5])          #prints the characters at index 0,1,2,3,4"
   ]
  },
  {
   "cell_type": "code",
   "execution_count": null,
   "metadata": {},
   "outputs": [],
   "source": [
    "print (dna*2)             #prints the dna sequence twice\n",
    "print (dna + dna + dna)   #prints the dna sequence three times"
   ]
  },
  {
   "cell_type": "code",
   "execution_count": null,
   "metadata": {
    "scrolled": true
   },
   "outputs": [],
   "source": [
    "# you can also combine operators and methods\n",
    "    #prints the characters at index 0,1,2,3,4 in uppercase\n",
    "print (dna[0:5].upper())           "
   ]
  },
  {
   "cell_type": "code",
   "execution_count": null,
   "metadata": {},
   "outputs": [],
   "source": [
    "# makes a repetition of 5 times the DNA string and then counts the amount of 'g's\n",
    "print ((dna*5).count(\"g\"))"
   ]
  },
  {
   "cell_type": "code",
   "execution_count": null,
   "metadata": {},
   "outputs": [],
   "source": [
    "# try to combine some operators\n"
   ]
  },
  {
   "cell_type": "markdown",
   "metadata": {},
   "source": [
    "# Exercise: Strings – Operators\n",
    "1. Create two variables and assign a random number of DNA nucleotides to both.\n",
    "2. Combine both variables and print \n",
    "3. Add 10 copies of the second dna sequence to the first sequence and assign it to a new variable.\n",
    "4. Print the total length of the conbined sequence \n",
    "- Print the 5th nucleotide \n",
    "- Print the 7th to the 14th nucleotide \n",
    "- Bonus: print the last character of \"gaattc\" but not by using ```string[5]```"
   ]
  },
  {
   "cell_type": "code",
   "execution_count": null,
   "metadata": {},
   "outputs": [],
   "source": [
    "# 1.Create two variables and assign a random number of DNA nucleotides to both.\n",
    "dna1 = \"agctagcatcgatac\" # adds sequence to variable dna1\n",
    "dna2 = \"tcatgctgcatacgtcacgt\" # adds sequence to variable dna2"
   ]
  },
  {
   "cell_type": "code",
   "execution_count": null,
   "metadata": {},
   "outputs": [],
   "source": [
    "# 2.Combine both variables and print \n",
    "dna3 = dna1 + dna2 # concatenates the strings in variable dna1 and variable dna2 and adds it to variable dna3\n",
    "print (dna3) # prints the string in variable dna3"
   ]
  },
  {
   "cell_type": "code",
   "execution_count": null,
   "metadata": {},
   "outputs": [],
   "source": [
    "# 3. Add 10 copies of the second dna sequence to the first sequence and assign it to a new variable.\n",
    "dna3 = dna3 + dna2 * 10 # concatenates the string in variable dna3 and 10 times the string in variable dna2\n",
    "# and 4.Print the total length of the conbined sequence \n",
    "print (len(dna3)) # prints length/the number of characters in variable dna3 "
   ]
  },
  {
   "cell_type": "code",
   "execution_count": null,
   "metadata": {},
   "outputs": [],
   "source": [
    "# 5. Print the 5th nucleotide\n",
    "print (dna3[4]) # prints the 5th nucleotide (Python counts from 0)\n",
    "print (dna3[4:5]) # prints the 5th nucleotide (Python counts from 0, 4 to 5 means show only index 4)\n",
    "# and 6. Print the 7th to the 14th nucleotide \n",
    "print (dna3[6:14]) # prints the 7th to 14th nucleotide \n",
    "# (Python counts from 0, 6 to 14 means show index 6, 7, 8, 9, 10, 11, 12 and 13)"
   ]
  },
  {
   "cell_type": "code",
   "execution_count": null,
   "metadata": {},
   "outputs": [],
   "source": [
    "# 7.Bonus: print the last character of \"gaattc\" but not by using string[5]\n",
    "print (\"gaattc\"[-1]) # prints the last character \n",
    "print (\"gaattc\"[-2])"
   ]
  },
  {
   "cell_type": "markdown",
   "metadata": {},
   "source": [
    "# Strings - Special characters\n",
    "- Tabs: \\t \n",
    "- Newlines(enter): \\n \n",
    "- Quotes: \\\" \n",
    "- Backslash: \\\\\\\n",
    "\n",
    "By using the character ```\\``` you tell the interpreter that the character after ```\\``` is a special character.\n",
    "So for example if you want to use ```\"``` in a text sentence the interpreter will think that you use the ```\"``` to end the text part. If you use ```\\\"``` you tell the interpreter that this is actually a special character for the text. "
   ]
  },
  {
   "cell_type": "code",
   "execution_count": null,
   "metadata": {},
   "outputs": [],
   "source": [
    "# prints the string including tabs, newlines and other special characters\n",
    "print (\"Tab\\tTab\\nSecond Line\\nPrint out a \\\"backslash\\\" : \\\\\") "
   ]
  },
  {
   "cell_type": "code",
   "execution_count": null,
   "metadata": {},
   "outputs": [],
   "source": [
    "# Make a nice print-out for one of my favourite christmas songs/poems \n",
    "# use only one print statement and use multiple tabs if needed:\n",
    "# \"Twinkle, twinkle, little star, \n",
    "#         How I wonder what you are! \n",
    "#                Up above the world so high, \n",
    "#                Like a diamond in the sky. \n",
    "#   Twinkle, twinkle, little star,\n",
    "#         How I wonder what you are!\"\n",
    "\n",
    "# Add a title to the poem \"in between brackets\"\n",
    "\n",
    "#Answer:\n",
    "print (\"\\\"Little star\\\"\")\n",
    "print(\"Twinkle, twinkle, little star, \\n\\tHow I wonder what you are! \\n\\t\\tUp above the world so high, \\n\\t\\tLike a diamond in the sky. \\nTwinkle, twinkle, little star, \\n\\tHow I wonder what you are!\")\n"
   ]
  },
  {
   "cell_type": "markdown",
   "metadata": {},
   "source": [
    "# Last exercise on strings \n",
    "- You can let Python ask you to input a variable: \n",
    "   ```python\n",
    "     your_name = input(\"Please type your name:\")\n",
    "     print (your_name)\n",
    "     ```\n",
    "```input``` always returns a string! \n",
    "\n",
    "\n",
    "1. Let Python request your first and last name \n",
    "2. Print them using \\t, \\n, \\\" and/or \\\\\\ \n",
    "3. Play around with this for a couple minutes"
   ]
  },
  {
   "cell_type": "code",
   "execution_count": null,
   "metadata": {},
   "outputs": [],
   "source": [
    "# input() is used to ask the user for input, then add this to variable your_name\n",
    "your_name = input(\"Please type your name:\")\n",
    "print (your_name) # prints the string stored in variable your_name"
   ]
  },
  {
   "cell_type": "code",
   "execution_count": null,
   "metadata": {},
   "outputs": [],
   "source": [
    "# 1.Let Python request your first and last name \n",
    "first_name = input(\"Please type your first name:\") # ask use for first name and add to variable first_name\n",
    "last_name = input(\"Please type your last name:\") # ask use for last name and add to variable last_name"
   ]
  },
  {
   "cell_type": "code",
   "execution_count": null,
   "metadata": {},
   "outputs": [],
   "source": [
    "# 2. and 3. Print them using \\t, \\n, \\\" and/or \\\\ \n",
    "print (\"\\\"\" + first_name + \"\\\"\\n\" + \"\\t\\\"\" + last_name + \"\\\"\") \n",
    "# prints the first_name and last_name on separate lines due to \\n and put them between quotes due to \\\""
   ]
  },
  {
   "cell_type": "code",
   "execution_count": null,
   "metadata": {},
   "outputs": [],
   "source": [
    "# prints the first_name and last_name not on separate lines\n",
    "print (\"\\\"\" + first_name + \"\\\"\" + \"\\t\\\"\" + last_name + \"\\\"\") "
   ]
  },
  {
   "cell_type": "code",
   "execution_count": null,
   "metadata": {},
   "outputs": [],
   "source": [
    "# prints the first_name and last_name not on separate lines and no quotes\n",
    "print (first_name + \"\\t\" + last_name) "
   ]
  },
  {
   "cell_type": "code",
   "execution_count": null,
   "metadata": {},
   "outputs": [],
   "source": [
    "# prints the first_name and last_name not on separate lines and no quotes and no tabs\n",
    "print (first_name + last_name)"
   ]
  },
  {
   "cell_type": "code",
   "execution_count": null,
   "metadata": {},
   "outputs": [],
   "source": [
    "print (\"First name:\" +\"\\t\\\"\" + first_name + \"\\\"\\n\" + \"Last name:\"+ \"\\t\\\"\" + last_name + \"\\\"\") "
   ]
  },
  {
   "cell_type": "markdown",
   "metadata": {},
   "source": [
    "# Numbers\n",
    "- Integers: whole numbers such as 1, 5, etc. \n",
    "- Floats: numbers with numbers behind the point, such as 1.5, 5.2, etc. \n",
    "- An integer variable cannot turn into a float and a float variable cannot turn into an integer\n",
    "    - You can make a float if you define the variable with a number behind the point. (e.g. 5.0; 11.3; 5000.0)\n",
    "    - When in doubt if you should use floats or integers, always use floats.\n",
    "- Simple math using numbers (x = 5.0 and y = 2.0) : \n",
    "    - Addition: ```x + y``` = 7.0 \n",
    "    - Subtraction: ```x – y``` = 3.0 \n",
    "    - Division: ```x / y``` = 2.5 \n",
    "    - Multiplication: ```x * y``` = 10.0 \n",
    "    - Power: ```x ** y``` = 25.0\n",
    "    - Modulo (remainder): ```x % y ```= 1.0 (2+2=4 5-4 = 1)\n",
    "- Python uses the standard order of operations \n",
    "    - ```5 * (2+1)``` = 15"
   ]
  },
  {
   "cell_type": "code",
   "execution_count": null,
   "metadata": {},
   "outputs": [],
   "source": [
    "x = 5.0 # adds float 5.0 to variable x\n",
    "y = 2.0 # adds float 2.0 to variable y"
   ]
  },
  {
   "cell_type": "code",
   "execution_count": null,
   "metadata": {},
   "outputs": [],
   "source": [
    "x + y # addition of x and y, in this case 5.0 + 2.0 = 7.0"
   ]
  },
  {
   "cell_type": "code",
   "execution_count": null,
   "metadata": {},
   "outputs": [],
   "source": [
    "x - y # subtraction of y from x, in this case 5.0 - 2.0 = 3.0"
   ]
  },
  {
   "cell_type": "code",
   "execution_count": null,
   "metadata": {},
   "outputs": [],
   "source": [
    "x / y # division of x by y, 5.0/2.0 = 2.5"
   ]
  },
  {
   "cell_type": "code",
   "execution_count": null,
   "metadata": {},
   "outputs": [],
   "source": [
    "x * y # multiplication of x by y, 5.0 * 2.0 = 10.0"
   ]
  },
  {
   "cell_type": "code",
   "execution_count": null,
   "metadata": {},
   "outputs": [],
   "source": [
    "x ** y # x to the power y, 5.0 to the power 2.0 = 25.0"
   ]
  },
  {
   "cell_type": "code",
   "execution_count": null,
   "metadata": {},
   "outputs": [],
   "source": [
    "x % y # remainder, what is left after all full y are taken from x, \n",
    "      # 5.0 % 2.0 = 1.0 "
   ]
  },
  {
   "cell_type": "code",
   "execution_count": null,
   "metadata": {},
   "outputs": [],
   "source": [
    "5 * (2+1) # (2+1) = 3 and 5 * 3 = 15"
   ]
  },
  {
   "cell_type": "code",
   "execution_count": null,
   "metadata": {},
   "outputs": [],
   "source": [
    "5 * 2 +1 # 5 * 2 = 10 and 10 + 1 = 11"
   ]
  },
  {
   "cell_type": "markdown",
   "metadata": {},
   "source": [
    "# Numbers - Integers and floats\n",
    "\n",
    "In the example below we want to do a simple division of 5/2. The result is supposed to be 2.5 of course, but for some reason the program outputs 2. Can you find out what is wrong in the example code and make the program output the right answer(2.5)?"
   ]
  },
  {
   "cell_type": "code",
   "execution_count": null,
   "metadata": {},
   "outputs": [],
   "source": [
    "number1 = 2\n",
    "number2 = 5\n",
    "print (number2/number1)"
   ]
  },
  {
   "cell_type": "markdown",
   "metadata": {},
   "source": [
    "# Numbers – Exercise \n",
    "1. Assign the 8 to the variable number1 \n",
    "- Assign the 3 to the variable number2 \n",
    "- Make a new variable caled number3 equal to the division of number1 by number2 \n",
    "- Print number3 \n",
    "- Does the result make sense? \n",
    "    - If not, check if you used integer numbers or float numbers\n",
    "- Once it does ask the user to input a DNA sequence and calculate the GC%"
   ]
  },
  {
   "cell_type": "code",
   "execution_count": null,
   "metadata": {},
   "outputs": [],
   "source": [
    "### Integers!\n",
    "### 1. 2. 3. and 4. \n",
    "number1 = 8 # adds 8 to variable number1\n",
    "number2 = 3 # adds 3 to variable number2\n",
    "number3 = number1 / number2 # divide variable number1 by variable number2 and store the result in variable number3\n",
    "print (number3) # print the value stored in vaiable number3"
   ]
  },
  {
   "cell_type": "code",
   "execution_count": null,
   "metadata": {},
   "outputs": [],
   "source": [
    "### Floats!\n",
    "### 5.\n",
    "number1 = 8.0 # adds 8.0 to variable number1\n",
    "number2 = 3.0 # adds 3.0 to variable number2\n",
    "number3 = number1 / number2 # divide variable number1 by variable number2 and store the result in variable number3\n",
    "print (number3) # print the value stored in vaiable number3"
   ]
  },
  {
   "cell_type": "code",
   "execution_count": null,
   "metadata": {},
   "outputs": [],
   "source": [
    "## 6.ask the user to input a DNA sequence and calculate the GC%\n",
    "\n",
    "## 6.ask the user to input a DNA sequence \n",
    "dna = input(\"Please type a dna sequence:\") # ask the user to input a dna sequence\n",
    "print (dna) # print sequence in variable dna"
   ]
  },
  {
   "cell_type": "code",
   "execution_count": null,
   "metadata": {},
   "outputs": [],
   "source": [
    "## 6.calculate the GC%\n",
    "print (float(dna.count(\"g\") + dna.count(\"c\")) / len(dna) * 100) \n",
    "# print --> prints the output \n",
    "    # float --> turns the .count integers to floats for proper calculations\n",
    "        # .count() counts the number of specified nucleotides which are divided by..\n",
    "            # len() gives to total number of characters in variable dna (length of the sequence)\n",
    "                # and multipied by *100 to get the percentages\n",
    "                \n",
    "print (\"GC content is:\", float(dna.count(\"g\") + dna.count(\"c\")) / len(dna) * 100, \"%\" )"
   ]
  },
  {
   "cell_type": "code",
   "execution_count": null,
   "metadata": {},
   "outputs": [],
   "source": [
    "#6. more steps version calculate the GC%\n",
    "# to calculated GC% we need\n",
    "    # no. of g\n",
    "no_g = dna.count(\"g\")\n",
    "    # no. of c\n",
    "no_c = dna.count(\"c\")\n",
    "    # total base-pairs of dna\n",
    "tot_bp = len(dna)\n",
    "    # sum of g and c counts\n",
    "sum_gc = no_g + no_c\n",
    "    # percentage gc of dna\n",
    "gc_dna = sum_gc/tot_bp *100\n",
    "    # show the gc content on screen\n",
    "print (\"GC content is \", gc_dna, \"%\")"
   ]
  },
  {
   "cell_type": "markdown",
   "metadata": {},
   "source": [
    "# Types\n",
    "\n",
    "- Sometimes we need to convert types \n",
    "    - ```str(variable)``` converts variable to a string \n",
    "    - ```int(variable)``` converts variable to a integer \n",
    "    - ```float(variable)``` converts variable to a float"
   ]
  },
  {
   "cell_type": "code",
   "execution_count": null,
   "metadata": {},
   "outputs": [],
   "source": [
    "\"2\" + \"2\" # concatenates strings \"2\" and \"2\""
   ]
  },
  {
   "cell_type": "code",
   "execution_count": null,
   "metadata": {},
   "outputs": [],
   "source": [
    "int(\"2\") + int(\"2\") # int(\"2\") converts string \"2\" in to integer 2; now addition works 2 + 2 = 4"
   ]
  },
  {
   "cell_type": "code",
   "execution_count": null,
   "metadata": {},
   "outputs": [],
   "source": [
    "str(2) + str(2)  # srt(2) converts integer 2 to string \"2\"; now concatenate works "
   ]
  },
  {
   "cell_type": "code",
   "execution_count": null,
   "metadata": {},
   "outputs": [],
   "source": [
    "int(\"this does not work, why?\") # tries to convert this string in an integer"
   ]
  },
  {
   "cell_type": "code",
   "execution_count": null,
   "metadata": {},
   "outputs": [],
   "source": [
    "float(5) / float(2) # float(5) converts integer 5 in to float 5.0"
   ]
  },
  {
   "cell_type": "code",
   "execution_count": null,
   "metadata": {},
   "outputs": [],
   "source": [
    "int(5.0 / 2.0) # int(5.0/2.0) converts float 2.5 in to integer 2"
   ]
  },
  {
   "cell_type": "code",
   "execution_count": null,
   "metadata": {},
   "outputs": [],
   "source": [
    "print (int(0.9))\n",
    "print (int(1.0))\n",
    "print (int(1.1))"
   ]
  },
  {
   "cell_type": "markdown",
   "metadata": {},
   "source": [
    "## Lucky Number\n",
    "- Ask the user to input their lucky number and store it in a variable \n",
    "- Ask the user for their age and store it in a variable\n",
    "- Use the two variables to calculate the average\n",
    "- Print the result is a nice way\n",
    "    \n",
    "    "
   ]
  },
  {
   "cell_type": "code",
   "execution_count": null,
   "metadata": {},
   "outputs": [],
   "source": [
    "# hint: lucky_number = input(...)\n",
    "lucky_number = input(\"What is your lucky number\")\n",
    "user_age = input(\"What is your age\")\n",
    "average_both = (float(lucky_number)+float(user_age))/2\n",
    "print (\"The average of your lucky number and your age is:\", average_both)\n"
   ]
  },
  {
   "cell_type": "markdown",
   "metadata": {},
   "source": [
    "# Last exercise on numbers (Assignment type)\n",
    "\n",
    "- Write a script that asks the user for \n",
    "    - his/her name \n",
    "    - length (m) \n",
    "    - weight (kg) \n",
    "- Calculate the bmi of the user \n",
    "    - ```user_bmi = weight / length2``` \n",
    "- Print out with one print command: \n",
    "    - The used formula to calculate bmi and on the next line the name and bmi separated by a tab."
   ]
  },
  {
   "cell_type": "code",
   "execution_count": null,
   "metadata": {},
   "outputs": [],
   "source": [
    "# User input\n",
    "name = input(\"Please type your name: \")  # ask for users name and store it in variable name\n",
    "weight = input(\"Please type your weight (kg):\") # ask for users weight and store it in variable weight\n",
    "length = input(\"Please type your length (m):\") # ask for users length ans store it in variable length"
   ]
  },
  {
   "cell_type": "code",
   "execution_count": null,
   "metadata": {},
   "outputs": [],
   "source": [
    "# Calculate bmi\n",
    "user_bmi = str(float(weight)/float(length)**2)\n",
    "# result is stored in variable user_bmi\n",
    "    # the weight and length input need to be converted in to floats befor calculations by float()\n",
    "        # the result of the calculation can be made in to a string by str() for easy printing\n",
    "print (\"user_bmi = \" + weight + \"/\" + length + \"^2\\n\" + name + \"\\t\" + user_bmi)\n",
    "# prints the filled in formula to calculate the uses bmi on the first line and the useds name and result on the second line"
   ]
  },
  {
   "cell_type": "code",
   "execution_count": null,
   "metadata": {},
   "outputs": [],
   "source": [
    "# Print out \n",
    "print (name +\"'s BMI = \" + weight + \"/\" + length + \"^2 = \" + user_bmi)"
   ]
  },
  {
   "cell_type": "code",
   "execution_count": null,
   "metadata": {},
   "outputs": [],
   "source": [
    "# Print out using int to round (wrong)\n",
    "user_bmi = str(int(float(weight)/float(length)**2))\n",
    "print (name +\"'s BMI = \" + weight + \"/\" + length + \"^2 = \" + user_bmi)"
   ]
  },
  {
   "cell_type": "code",
   "execution_count": null,
   "metadata": {},
   "outputs": [],
   "source": [
    "# Print out using int to round (right)\n",
    "user_bmi = (int(float(weight)/float(length)**2+0.5)) ## adding the 0.5 will make sure the rounding is done correctly\n",
    "print (name +\"'s BMI = \" + weight + \"/\" + length + \"^2 = \" , user_bmi)"
   ]
  },
  {
   "cell_type": "markdown",
   "metadata": {},
   "source": [
    "# Boolean: True or False \n",
    "- Booleans are the outcome when you compare or test variables \n",
    "- Examples:"
   ]
  },
  {
   "cell_type": "code",
   "execution_count": null,
   "metadata": {},
   "outputs": [],
   "source": [
    "x = 2 # add integer 2 to variable x\n",
    "x < 3 # test if x is smaller than 3, in this case it is True"
   ]
  },
  {
   "cell_type": "code",
   "execution_count": null,
   "metadata": {},
   "outputs": [],
   "source": [
    "x = \"yes\" # add string \"yes\" to variable x\n",
    "x == \"no\" # by using == test if x is equal to string \"no\""
   ]
  },
  {
   "cell_type": "markdown",
   "metadata": {},
   "source": [
    "## Operators for comparison \n",
    "- ```<``` less than \n",
    "- ```<=``` less than or equal to \n",
    "- ```\\>``` greater than \n",
    "- ```>=``` greater than or equal to \n",
    "- ```==``` equal\n",
    "- ```!=``` not equal\n",
    "\n",
    "## Boolean – exercise\n",
    "- Below are a couple comparisons. Try to guess the result before executing the comparisons in python."
   ]
  },
  {
   "cell_type": "code",
   "execution_count": null,
   "metadata": {},
   "outputs": [],
   "source": [
    "5 > 4 # test if 5 is greater than 4"
   ]
  },
  {
   "cell_type": "code",
   "execution_count": null,
   "metadata": {},
   "outputs": [],
   "source": [
    "3 < 5 # test if 3 is smaller than 5"
   ]
  },
  {
   "cell_type": "code",
   "execution_count": null,
   "metadata": {},
   "outputs": [],
   "source": [
    "4 == 4 # test if 4 is equal to 4"
   ]
  },
  {
   "cell_type": "code",
   "execution_count": null,
   "metadata": {},
   "outputs": [],
   "source": [
    "4 <= 4 # test if 4 is smaller than OR equal to 4"
   ]
  },
  {
   "cell_type": "code",
   "execution_count": null,
   "metadata": {},
   "outputs": [],
   "source": [
    "4 >= 3 # test if 4 is greater than OR equal to 3"
   ]
  },
  {
   "cell_type": "code",
   "execution_count": null,
   "metadata": {},
   "outputs": [],
   "source": [
    "3 != 3 # test if 3 is NOT equal to 3"
   ]
  },
  {
   "cell_type": "code",
   "execution_count": null,
   "metadata": {},
   "outputs": [],
   "source": [
    "\"yes\" != \"no\" # test if \"yes\" in NOT equal to \"no\" "
   ]
  },
  {
   "cell_type": "code",
   "execution_count": null,
   "metadata": {},
   "outputs": [],
   "source": [
    "\"yes\" == \"yes\" # test if \"yes\" is equal to \"yes\""
   ]
  },
  {
   "cell_type": "markdown",
   "metadata": {},
   "source": [
    "# Boolean – exercise \n",
    "- Just like before, try to guess the result before executing the comparisons\n",
    "- ```and``` means that both comparisons need to be true\n",
    "- ```or``` means that only one of the two comparisons need to be true\n",
    "- ```not``` outputs true if the comparison is false\n",
    "- Boolean logic follows mathematical sequence, thus comparisons between brackets are evaluated first."
   ]
  },
  {
   "cell_type": "code",
   "execution_count": null,
   "metadata": {},
   "outputs": [],
   "source": [
    "5 > 3 and 5 > 1 # test if 5 is greater than 3 AND if 5 is greater than 1"
   ]
  },
  {
   "cell_type": "code",
   "execution_count": null,
   "metadata": {},
   "outputs": [],
   "source": [
    "5 < 3 or 5 > 1 # test if 5 is smaller than 3 OR 5 is greater than 1"
   ]
  },
  {
   "cell_type": "code",
   "execution_count": null,
   "metadata": {},
   "outputs": [],
   "source": [
    "not 5 > 3 # test if 5 is NOT greater than 3 "
   ]
  },
  {
   "cell_type": "code",
   "execution_count": null,
   "metadata": {},
   "outputs": [],
   "source": [
    "5 <= 3 # test if is smaller than or equal to 3"
   ]
  },
  {
   "cell_type": "code",
   "execution_count": null,
   "metadata": {},
   "outputs": [],
   "source": [
    "not 5 > 3 or 5 > 1 # test if 5 is NOT greater than 3 OR 5 is greater than 1"
   ]
  },
  {
   "cell_type": "code",
   "execution_count": null,
   "metadata": {},
   "outputs": [],
   "source": [
    "not (5 > 3 or 5 > 1) # test if both are NOT true"
   ]
  },
  {
   "cell_type": "markdown",
   "metadata": {},
   "source": [
    "# Lists\n",
    "-  A list can contain all types and a combination of different types (characters, strings, integers, floats, booleans, other lists)\n",
    "    - We already discussed that a string is a list of characters\n",
    "- Each item on the list has an index. The index is based on the place on the list, and python starts counting the indices at 0. Thus, the first item on the list has index 0, the second item has index 1 etc. etc. etc.\n",
    "- A list is created between square brackets, with the items seperated by a comma."
   ]
  },
  {
   "cell_type": "code",
   "execution_count": null,
   "metadata": {},
   "outputs": [],
   "source": [
    "list_of_numbers = [0,8,5,3,6.5,9.9,102]  #creates a list of grades, each item seperated by a comma \n",
    "                                         #and the list is flanked by square brackets\n",
    "print (list_of_numbers) # prints the list"
   ]
  },
  {
   "cell_type": "code",
   "execution_count": null,
   "metadata": {},
   "outputs": [],
   "source": [
    "print (list_of_numbers[2])                 #prints the number at index 2(third item)\n",
    "print (len(list_of_numbers))               #prints the length of the list"
   ]
  },
  {
   "cell_type": "code",
   "execution_count": null,
   "metadata": {},
   "outputs": [],
   "source": [
    "#you can also make lists of other types\n",
    "booleans = [True, False, True, True, False]  \n",
    "characters = ['a', 'b', 'c']\n",
    "strings = [\"hello\",\"this\",\"is\",\"a\",\"list\"]\n",
    "lists = [booleans, characters, strings]\n",
    "\n",
    "#print the lists you've just made"
   ]
  },
  {
   "cell_type": "code",
   "execution_count": null,
   "metadata": {},
   "outputs": [],
   "source": [
    "print (booleans)"
   ]
  },
  {
   "cell_type": "code",
   "execution_count": null,
   "metadata": {},
   "outputs": [],
   "source": [
    "print (characters)"
   ]
  },
  {
   "cell_type": "code",
   "execution_count": null,
   "metadata": {},
   "outputs": [],
   "source": [
    "print (strings)"
   ]
  },
  {
   "cell_type": "code",
   "execution_count": null,
   "metadata": {},
   "outputs": [],
   "source": [
    "print (lists)"
   ]
  },
  {
   "cell_type": "markdown",
   "metadata": {},
   "source": [
    "# Arrays / lists - Exercise\n",
    "\n",
    "- Create a variable with a list of at least 7 numbers\n",
    "- Print the result of the second number times the fourth number\n",
    "- Print the first five numbers\n",
    "- Print the length of the list\n",
    "- Print the length of the list plus the seventh number"
   ]
  },
  {
   "cell_type": "code",
   "execution_count": null,
   "metadata": {},
   "outputs": [],
   "source": [
    "# Create a variable with a list of at least 7 numbers\n",
    "seven = [1,2,3,4,5,6,7]"
   ]
  },
  {
   "cell_type": "code",
   "execution_count": null,
   "metadata": {},
   "outputs": [],
   "source": [
    "# Print the result of the second number times the fourth number\n",
    "print (seven[1] * seven[3])"
   ]
  },
  {
   "cell_type": "code",
   "execution_count": null,
   "metadata": {},
   "outputs": [],
   "source": [
    "# Print the first five numbers\n",
    "print (seven[0:5])"
   ]
  },
  {
   "cell_type": "code",
   "execution_count": null,
   "metadata": {},
   "outputs": [],
   "source": [
    "# Print the length of the list\n",
    "print (len(seven))"
   ]
  },
  {
   "cell_type": "code",
   "execution_count": null,
   "metadata": {},
   "outputs": [],
   "source": [
    "# Print the length of the list plus the seventh number\n",
    "print (len(seven) + seven[6])\n",
    "print (len(seven) + seven[-1])"
   ]
  },
  {
   "cell_type": "markdown",
   "metadata": {},
   "source": [
    "# Control flow – if / else / elif\n",
    "- With ```if```, ```else``` and ```elif``` we can control the execution of certain parts of a program. \n",
    "- The ```if``` keyword tests a condition. If the condition is true, execute the code and if not, skip that part of the code.\n",
    "- Optionally you can use more conditions with ```elif```. If the if-condition is false, it will go to the next part of the code and check the second condition\n",
    "- The code after the ```else``` statement is run if all the conditions are false\n",
    "- if statements must always be ended with a ```:``` and the code that should be executed has to be <b>indented by a tab</b>.\n",
    "- For example:\n",
    "```python\n",
    "    - if (condition1):\n",
    "        -  do something when condition1 is true\n",
    "    - elif(condition2):\n",
    "        - do something else when condition2 is true\n",
    "    - else:\n",
    "        - when both conditions are false, do this\n",
    "```\n",
    "- Try to get all three possible outputs by varying the value of x in the example"
   ]
  },
  {
   "cell_type": "code",
   "execution_count": null,
   "metadata": {},
   "outputs": [],
   "source": [
    "x = 0 # add integer 5 to variable x\n",
    "if (x < 0): # if x is smaller than 0 execute..\n",
    "    print (\"x is negative\") # print \"x is negative\", watch the indentation! \n",
    "elif (x > 0): # else, if x is greater than 0 execute..\n",
    "    print (\"x is positive\") # print \"x is positive\", watch the indentation! \n",
    "else: # else, execute..\n",
    "    print (\"x is 0\") # print \"x is 0\", watch the indentation! "
   ]
  },
  {
   "cell_type": "code",
   "execution_count": null,
   "metadata": {},
   "outputs": [],
   "source": [
    "x = 5 # add integer 5 to variable x\n",
    "if (x < 0): # if x is smaller than 0 execute..\n",
    "    print (\"x is negative\") # print \"x is negative\", watch the indentation! \n",
    "elif (x > 0): # else, if x is greater than 0 execute..\n",
    "    print (\"x is positive\") # print \"x is positive\", watch the indentation! \n",
    "else: # else, execute..\n",
    "    print (\"x is 0\") # print \"x is 0\", watch the indentation! "
   ]
  },
  {
   "cell_type": "code",
   "execution_count": null,
   "metadata": {},
   "outputs": [],
   "source": [
    "dna = input(\"please give a dna sequence: \") # ask user to enter a dna sequence\n",
    "\n",
    "if(dna.count(\"g\")>5): # counts the number of \"g\" in the dna sequence and test if it greater than 5\n",
    "    print (\"more than 5 g's\")  # if True it prints this\n",
    "else: \n",
    "    print (\"5 or less g's\") # if not True it prints this"
   ]
  },
  {
   "cell_type": "markdown",
   "metadata": {},
   "source": [
    "# Control flow – if – exercise \n",
    "- Write a script that asks the user for a nucleotide and store it into a variable\n",
    "- Check whether the nucleotide is an adenine, thymine, cytosine or guanine \n",
    "- Print out the nucleotide type or an error message if the input is not a nucleotide"
   ]
  },
  {
   "cell_type": "code",
   "execution_count": null,
   "metadata": {},
   "outputs": [],
   "source": [
    "# asks the user for a nucleotide and store it into a variable\n",
    "nucleotide = input(\"Enter a nucleotide: \") # ask the user to enter a nucleotide and add it to variable nucleotide\n",
    "nucleotide = nucleotide.upper() # use .upper() to covert the entered nucleotide in to upper case\n"
   ]
  },
  {
   "cell_type": "code",
   "execution_count": null,
   "metadata": {},
   "outputs": [],
   "source": [
    "# Check whether the nucleotide is an adenine, thymine, cytosine or guanine\n",
    "# Print out the nucleotide type or an error message if the input is not a nucleotide\n",
    "\n",
    "if (nucleotide == \"A\" or nucleotide == \"ADENINE\"):  # test if the entered nucleotide is equal to \"A\" if true execute..  \n",
    "    print (\"Adenine\") # print \"Adenine\"\n",
    "elif (nucleotide == \"T\"): # else, test if the entered nucleotide is equal to \"T\" if true execute..\n",
    "    print (\"Thymine\") # print \"Thymine\"\n",
    "elif (nucleotide == \"C\"): # else, test if the entered nucleotide is equal to \"C\" if true execute..\n",
    "    print (\"Cytosine\") # print \"Cytosine\"\n",
    "elif (nucleotide == \"G\"): # else, test if the entered nucleotide is equal to \"G\" if true execute..\n",
    "    print (\"Guanine\") # print \"Guanine\"\n",
    "else: # else, execute..\n",
    "    print (\"No recognized nucleotide character was entered\") # "
   ]
  },
  {
   "cell_type": "markdown",
   "metadata": {},
   "source": [
    "# Control flow - if - exercise (Assignment type)\n",
    "\n",
    "1. Ask the user for a dna sequence and store it into a variable\n",
    "2. If the length of the sequence is 10 or lower, print the sequence in uppercase\n",
    "3. If the length of the sequence is higher than 20, print only the first 20 nucleotides\n",
    "4. If the length of the sequence is between 10 and 21(else or elif), print the complete sequence\n",
    "5. Also print the lenght of the dna sequence when between 10 and 21 nucleotides\n",
    "6. If an RNA sequence is entered, print an error message"
   ]
  },
  {
   "cell_type": "code",
   "execution_count": null,
   "metadata": {},
   "outputs": [],
   "source": [
    "# Write your code here\n",
    "\n",
    "# 1. \n",
    "dna = input(\"please give a dna sequence: \") # ask user to enter a dna sequence\n",
    "# 2.\n",
    "if (len(dna) <= 10):\n",
    "    print (dna.upper())    \n",
    "# 3.\n",
    "if (len(dna) > 20):\n",
    "    print (dna[0:20])\n",
    "# 4.\n",
    "elif (len(dna) > 9):\n",
    "    print (dna)\n",
    "# 5.\n",
    "    print (\"The DNA \"+\"\\n\"+\" sequence is \" + str(len(dna)) + \" nucleotides \\t long.\")\n",
    "\n",
    "# 6.\n",
    "if dna.count(\"u\") > 0:\n",
    "    print (\"Uracil detected; you've entered an RNA sequence\")"
   ]
  },
  {
   "cell_type": "markdown",
   "metadata": {},
   "source": [
    "# Loops – while \n",
    "- the while condition is similar to the if statement, but instead it keeps looping its part of code until the comparison is not true anymore. \n",
    "- if the condition is already false, the code will not execute\n",
    "- while the condition is true, execute the code.\n",
    "- syntax is similar to the if statement\n",
    "```python\n",
    "     while (condition): \n",
    "        do something\n",
    "```\n",
    "- The code that will be looped can be 1 or multiple lines of code"
   ]
  },
  {
   "cell_type": "code",
   "execution_count": null,
   "metadata": {},
   "outputs": [],
   "source": [
    "number = 1.0            # assign a variable with value 1\n",
    "while number <= 1024:   # as long as the variable \"number\" is below 1024, execute the code below\n",
    "    print (number)        # print the value of the variable \"number\"\n",
    "    number = number * 2 # double the value of the variable \"number\""
   ]
  },
  {
   "cell_type": "code",
   "execution_count": null,
   "metadata": {},
   "outputs": [],
   "source": [
    "# ask the user to enter a number and add this number as a float to variable number\n",
    "number = float(input(\"Please provide a number: \")) \n",
    "while number < 20: # while number is smaller than 20, execute..\n",
    "    print (number) # print the float stored in number and ..\n",
    "    number += 1 # add 1 to number (use += to update number, this is the short version of number = number + 1)     "
   ]
  },
  {
   "cell_type": "code",
   "execution_count": null,
   "metadata": {},
   "outputs": [],
   "source": [
    "# as you can see the variable number no contains 20.0 it is not printed as it is not smaller than 20\n",
    "print (number)"
   ]
  },
  {
   "cell_type": "code",
   "execution_count": null,
   "metadata": {},
   "outputs": [],
   "source": [
    "## we can put the print command at the end (note now it does not print the enterd number through the loop)\n",
    "\n",
    "# ask the user to enter a number and add this number as a float to variable number\n",
    "number = float(input(\"Please provide a number: \")) \n",
    "while number < 20: # while number is smaller than 20, execute..\n",
    "    number += 1 # add 1 to number (use += to update number, this is the short version of number = number + 1)     \n",
    "    print (number) # print the float stored in number and .."
   ]
  },
  {
   "cell_type": "code",
   "execution_count": null,
   "metadata": {},
   "outputs": [],
   "source": [
    "# copy the code and change each instance of number to something else (a different name)\n",
    "different_name = float(input(\"Please provide a number: \")) \n",
    "# ask the user to enter a number and add this number as a float to variable number\n",
    "while different_name < 20: # while number is smaller than 20, execute..\n",
    "    different_name += 1 # add 1 to number (use += to update number, this is the short version of number = number + 1)     \n",
    "    print (different_name) # print the float stored in number and .."
   ]
  },
  {
   "cell_type": "code",
   "execution_count": null,
   "metadata": {},
   "outputs": [],
   "source": [
    "# make a while loop counting down to 0, after asking the user to enter a number\n",
    "different_name = float(input(\"Please provide a number: \")) \n",
    "# ask the user to enter a number and add this number as a float to variable number\n",
    "while different_name > 0: # while number is greater than 0, execute..\n",
    "    different_name += -1 # add -1 to number (use += to update number, this is the short version of number = number - 1)     \n",
    "    print (different_name)"
   ]
  },
  {
   "cell_type": "code",
   "execution_count": null,
   "metadata": {},
   "outputs": [],
   "source": [
    "# use an if statement to have your script print a message when a number is larger than 20\n",
    "different_name = float(input(\"Please provide a number: \")) \n",
    "if (different_name > 20):\n",
    "    print (\"this number is too high\")\n",
    "while different_name > 0: # while number is greater than 0, execute..\n",
    "    different_name += -1 # add -1 to number (use += to update number, this is the short version of number = number - 1)     \n",
    "    print (different_name)"
   ]
  },
  {
   "cell_type": "code",
   "execution_count": null,
   "metadata": {},
   "outputs": [],
   "source": [
    "# Can you think of a way to only execute the while formula if the number is lower than 20?\n",
    "# Hint: think of indentation (tabs or spaces)\n",
    "different_name = float(input(\"Please provide a number: \")) \n",
    "if (different_name > 20):\n",
    "    print (\"this number is too high imo\")\n",
    "else:\n",
    "    while different_name > 0: # while number is greater than 0, execute..\n",
    "        different_name += -1 # add -1 to number (use += to update number, this is the short version of number = number - 1)     \n",
    "        print (different_name)\n"
   ]
  },
  {
   "cell_type": "markdown",
   "metadata": {},
   "source": [
    "# Loops – while – exercise (Assignment type)\n",
    "1. Ask the user to enter a DNA sequence and store it in a variable\n",
    "2. Check the if the length of the text is smaller than 100 using an if or a while statement\n",
    "3. As long as the length is smaller, ask the user for more DNA sequence AND add it to the sequence you already have\n",
    "4. Once you have more than 100 nucleotides print the result\n",
    "5. Now that it is working add after each entry to report the total length of the sequence, the nucleotide count and % GC.\n",
    "6. Check if the entered sequence is DNA"
   ]
  },
  {
   "cell_type": "code",
   "execution_count": null,
   "metadata": {},
   "outputs": [],
   "source": [
    "# 1. Ask the user to enter a DNA sequence and store it in a variable\n",
    "dna = input(\"Enter a dna sequence: \") # ask the user to enter a dna sequence and add it to variable dna\n"
   ]
  },
  {
   "cell_type": "code",
   "execution_count": null,
   "metadata": {},
   "outputs": [],
   "source": [
    "# 2. Check the if the length of the text is smaller than 100 using an if or a while statement\n",
    "\n",
    "# 3. As long as the length is smaller, ask the user for more DNA sequence AND add it to the sequence you already have\n",
    "\n",
    "# and 4. Once you have more than 100 nucleotides print the result\n",
    "\n",
    "while (len(dna) <= 100): # while the length of variable dna is smaller than or equal to 100 execute..\n",
    "    dna2 = input(\"Enter some more dna sequence: \")  # ask the user for more dna sequence and add it to variable dna2 \n",
    "    dna = dna + dna2 # concatenate the sequences in variable dna and dna2 and update variable dna\n",
    "print (\"The DNA sequence: \" + dna) # Print \"The DNA sequence: \" and the string/sequences stored in variable dna"
   ]
  },
  {
   "cell_type": "code",
   "execution_count": null,
   "metadata": {},
   "outputs": [],
   "source": [
    "# or use:  dna += dna2 \n",
    "\n",
    "# it does the same as dna = dna + dna2\n",
    "\n",
    "\n",
    "while (len(dna) <= 100): # while the length of variable dna is smaller than or equal to 100 execute..\n",
    "    dna2 = input(\"Enter some more dna sequence: \")  # ask the user for more dna sequence and add it to variable dna2 \n",
    "    dna += dna2 # concatenate the sequences in variable dna and dna2 and update variable dna\n",
    "print (\"The DNA sequence: \" + dna) # Print \"The DNA sequence: \" and the string/sequences stored in variable dna\n"
   ]
  },
  {
   "cell_type": "code",
   "execution_count": null,
   "metadata": {},
   "outputs": [],
   "source": [
    "# 5. After each entry to report the total length of the sequence, the nucleotide count and % GC.\n",
    "dna = input(\"Enter a dna sequence: \").lower() # ask the user to enter a dna sequence and add it to variable dna\n",
    "\n",
    "while (len(dna) <= 25): # while the length of variable dna is smaller than or equal to 50 execute..\n",
    "    dna2 = input(\"Enter some more dna sequence: \").lower()  # ask the user for more dna sequence and add it to variable dna2 \n",
    "    dna = dna + dna2 # concatenate the sequences in variable dna and dna2 and update variable dna\n",
    "\n",
    "print (\"The DNA sequence: \" + dna) # Print \"The DNA sequence: \" and the string/sequences stored in variable dna\n",
    "    \n",
    "print (\"The length is:\", len(dna))\n",
    "\n",
    "count_a = dna.count(\"a\") # .count(\"a\") counts the number of \"a\" in variable dna and adds the number to variable count_a\n",
    "count_c = dna.count(\"c\") # .count(\"c\") counts the number of \"c\" in variable dna and adds the number to variable count_c\n",
    "count_g = dna.count(\"g\") # .count(\"g\") counts the number of \"g\" in variable dna and adds the number to variable count_g\n",
    "count_t = dna.count(\"t\") # .count(\"t\") counts the number of \"t\" in variable dna and adds the number to variable count_t\n",
    "print (\"a in dna:\",count_a) # print \"a in dna:\" followed by the entry in variable count_a\n",
    "print (\"t in dna:\",count_t) # print \"t in dna:\" followed by the entry in variable count_t\n",
    "print (\"c in dna:\",count_c) # print \"c in dna:\" followed by the entry in variable count_c\n",
    "print (\"g in dna:\",count_g) # print \"g in dna:\" followed by the entry in variable count_g\n",
    "    \n",
    "print (float(dna.count(\"g\") + dna.count(\"c\")) / len(dna) * 100) \n",
    "print (\"GC content is:\", float(dna.count(\"g\") + dna.count(\"c\")) / len(dna) * 100, \"%\", \"\\n\") \n",
    "    "
   ]
  },
  {
   "cell_type": "code",
   "execution_count": null,
   "metadata": {},
   "outputs": [],
   "source": [
    "# 6. Check if the entered sequence is DNA and print a report.\n",
    "# 5. After each entry to report the total length of the sequence, the nucleotide count and % GC.\n",
    "dna = input(\"Enter a dna sequence: \").lower() # ask the user to enter a dna sequence and add it to variable dna\n",
    "count_a = dna.count(\"a\") # .count(\"a\") counts the number of \"a\" in variable dna and adds the number to variable count_a\n",
    "count_c = dna.count(\"c\") # .count(\"c\") counts the number of \"c\" in variable dna and adds the number to variable count_c\n",
    "count_g = dna.count(\"g\") # .count(\"g\") counts the number of \"g\" in variable dna and adds the number to variable count_g\n",
    "count_t = dna.count(\"t\") # .count(\"t\") counts the number of \"t\" in variable dna and adds the number to variable count_t\n",
    "\n",
    "if len(dna) != count_a + count_g + count_c + count_t:\n",
    "    print (\"This is not a DNA sequence\")\n",
    "else:\n",
    "    while (len(dna) <= 50): # while the length of variable dna is smaller than or equal to 50 execute..\n",
    "        dna2 = input(\"Enter some more dna sequence: \").lower()  # ask the user for more dna sequence and add it to variable dna2 \n",
    "        dna = dna + dna2 # concatenate the sequences in variable dna and dna2 and update variable dna\n",
    "        count_a = dna.count(\"a\") # .count(\"a\") counts the number of \"a\" in variable dna and adds the number to variable count_a\n",
    "        count_c = dna.count(\"c\") # .count(\"c\") counts the number of \"c\" in variable dna and adds the number to variable count_c\n",
    "        count_g = dna.count(\"g\") # .count(\"g\") counts the number of \"g\" in variable dna and adds the number to variable count_g\n",
    "        count_t = dna.count(\"t\") # .count(\"t\") counts the number of \"t\" in variable dna and adds the number to variable count_t\n",
    "        if len(dna) != count_a + count_g + count_c + count_t:\n",
    "            print (\"This is not a DNA sequence\")\n",
    "            dna += \".\"*50\n",
    "        else:\n",
    "            print (\"The DNA sequence: \" + dna) # Print \"The DNA sequence: \" and the string/sequences stored in variable dna\n",
    "            print (\"The length is:\", len(dna))\n",
    "\n",
    "        \n",
    "if len(dna) == count_a + count_g + count_c + count_t:\n",
    "    count_a = dna.count(\"a\") # .count(\"a\") counts the number of \"a\" in variable dna and adds the number to variable count_a\n",
    "    count_c = dna.count(\"c\") # .count(\"c\") counts the number of \"c\" in variable dna and adds the number to variable count_c\n",
    "    count_g = dna.count(\"g\") # .count(\"g\") counts the number of \"g\" in variable dna and adds the number to variable count_g\n",
    "    count_t = dna.count(\"t\") # .count(\"t\") counts the number of \"t\" in variable dna and adds the number to variable count_t\n",
    "    print (\"a in dna:\",count_a) # print \"a in dna:\" followed by the entry in variable count_a\n",
    "    print (\"t in dna:\",count_t) # print \"t in dna:\" followed by the entry in variable count_t\n",
    "    print (\"c in dna:\",count_c) # print \"c in dna:\" followed by the entry in variable count_c\n",
    "    print (\"g in dna:\",count_g) # print \"g in dna:\" followed by the entry in variable count_g\n",
    "    \n",
    "    print (float(dna.count(\"g\") + dna.count(\"c\")) / len(dna) * 100) \n",
    "    print (\"GC content is:\", float(dna.count(\"g\") + dna.count(\"c\")) / len(dna) * 100, \"%\", \"\\n\") \n",
    "    "
   ]
  },
  {
   "cell_type": "markdown",
   "metadata": {},
   "source": [
    "# Loops – for \n",
    "- An array is a list of variables\n",
    "    - A string can be seen as a list of characters\n",
    "        - For example: ```\"hello\"``` is a list of the characters 'h','e','l','l' and 'o'.\n",
    "    - ```range(0,5)``` creates a list starting at 0 until 5 (but not including 5): 0;1;2;3;4\n",
    "- A for-loop loops over every variable in the list\n",
    "- For example:\n",
    "```python\n",
    "    for (variable) in (array): \n",
    "        do something\n",
    "```"
   ]
  },
  {
   "cell_type": "code",
   "execution_count": null,
   "metadata": {},
   "outputs": [],
   "source": [
    "number_array = [0,1,2,3,4]\n",
    "print (number_array)"
   ]
  },
  {
   "cell_type": "code",
   "execution_count": null,
   "metadata": {},
   "outputs": [],
   "source": [
    "number_array = range(0,5)\n",
    "print (list(number_array))"
   ]
  },
  {
   "cell_type": "code",
   "execution_count": null,
   "metadata": {},
   "outputs": [],
   "source": [
    "number_array = range(0,5) #creates a list starting at 0 until 5 (but not including 5) values\n",
    "for number in number_array: #iterates trough each number in the list\n",
    "    print (number)  "
   ]
  },
  {
   "cell_type": "code",
   "execution_count": null,
   "metadata": {},
   "outputs": [],
   "source": [
    "  \n",
    "for studentnumber in range(0,10):  #you can also directly make the list in the for statement\n",
    "    print (studentnumber)             #the name of the variable can be anything you want, from apples to pears to your own name"
   ]
  },
  {
   "cell_type": "code",
   "execution_count": null,
   "metadata": {},
   "outputs": [],
   "source": [
    "# you can also loop using steps of 2, 3, or more\n",
    "## asign different values to variable steps and see what happens and why?\n",
    "steps = 3\n",
    "for studentnumber in range(0,10,steps):\n",
    "    print(studentnumber)\n"
   ]
  },
  {
   "cell_type": "code",
   "execution_count": null,
   "metadata": {},
   "outputs": [],
   "source": [
    "string = \"my string\" # adds string \"my string\" to variable string\n",
    "for char in string: # starts a loop in which for each character in variable string the following is executed..\n",
    "    print (char) # print what is in char "
   ]
  },
  {
   "cell_type": "code",
   "execution_count": null,
   "metadata": {},
   "outputs": [],
   "source": [
    "string = \"my string\" # adds string \"my string\" to variable string\n",
    "for whatever in string: # starts a loop in which for each character in variable string the following is executed..\n",
    "    print (whatever) # print what is in char "
   ]
  },
  {
   "cell_type": "code",
   "execution_count": null,
   "metadata": {},
   "outputs": [],
   "source": [
    "string = \"my string\" # adds string \"my string\" to variable string\n",
    "num = 0\n",
    "index = -1\n",
    "for char in string: # starts a loop in which for each character in variable string the following is executed..\n",
    "    num +=1\n",
    "    index += 1\n",
    "    print (index, num, char) # print the index, number and character \n",
    "    "
   ]
  },
  {
   "cell_type": "code",
   "execution_count": null,
   "metadata": {},
   "outputs": [],
   "source": [
    "# you can also loop over a range() and use the values as the index\n",
    "string = \"my string\" # adds string \"my string\" to variable string\n",
    "for i in range(0,len(string)): \n",
    "    print (string[i]) \n"
   ]
  },
  {
   "cell_type": "code",
   "execution_count": null,
   "metadata": {},
   "outputs": [],
   "source": [
    "# copy the code and change each instance of string to something and each instance of char to whatever\n",
    "whatever = \"my string\" # adds string \"my string\" to variable string\n",
    "num = 0\n",
    "index = -1\n",
    "for char in whatever: # starts a loop in which for each character in variable string the following is executed..\n",
    "    num +=1\n",
    "    index += 1\n",
    "    print (index, num, char) # print the index, number and character "
   ]
  },
  {
   "cell_type": "code",
   "execution_count": null,
   "metadata": {},
   "outputs": [],
   "source": [
    "# ask the user to enter a sentence\n",
    "# make a for loop printing the 1st, 3rd, 5th, 7th, ... letter of that sentence\n",
    "apple = input(\"Enter a sentence: \")\n",
    "for i in range(0,len(apple),2):\n",
    "    print (apple[i])"
   ]
  },
  {
   "cell_type": "markdown",
   "metadata": {},
   "source": [
    "# Loops - Exercise\n",
    "\n",
    "A few small exercises to check if you understood all the parts of this notebook\n",
    "\n",
    "1. Write a python program to print the square of all numbers between 0 and 10\n",
    "2. Write a python program that asks the user for a DNA sequence and only prints it if it is a valid DNA sequence (e.g. only use of 'a', 'g','c','t')\n",
    "    - hint: the DNA sequence is a string and thus an array of characters\n",
    "3. Write a python program that asks the user for a DNA sequence and calculate the GC% if the length is above 20 nucleotides"
   ]
  },
  {
   "cell_type": "code",
   "execution_count": null,
   "metadata": {},
   "outputs": [],
   "source": [
    "# Exercise 1\n",
    "# hint you can use the range() function the generate a list with the numbers\n",
    "for i in range(1,10,1):\n",
    "    print (i**2)"
   ]
  },
  {
   "cell_type": "code",
   "execution_count": null,
   "metadata": {},
   "outputs": [],
   "source": [
    "# Exercise 2\n",
    "dna = input(\"Enter a dna sequence: \")\n",
    "if (len(dna) == dna.count(\"a\") + dna.count(\"t\") + dna.count(\"c\") + dna.count(\"g\")):\n",
    "    print (dna)\n",
    "else:\n",
    "    print (\"not a DNA sequence\")"
   ]
  },
  {
   "cell_type": "code",
   "execution_count": null,
   "metadata": {},
   "outputs": [],
   "source": [
    "# Exercise 3\n",
    "dna = input(\"Enter a dna sequence: \")\n",
    "if (len(dna) > 20):\n",
    "    count_a = dna.count(\"a\") # .count(\"a\") counts the number of \"a\" in variable dna and adds the number to variable count_a\n",
    "    count_c = dna.count(\"c\") # .count(\"c\") counts the number of \"c\" in variable dna and adds the number to variable count_c\n",
    "    count_g = dna.count(\"g\") # .count(\"g\") counts the number of \"g\" in variable dna and adds the number to variable count_g\n",
    "    count_t = dna.count(\"t\") # .count(\"t\") counts the number of \"t\" in variable dna and adds the number to variable count_t\n",
    "    print (\"a in dna:\",count_a) # print \"a in dna:\" followed by the entry in variable count_a\n",
    "    print (\"t in dna:\",count_t) # print \"t in dna:\" followed by the entry in variable count_t\n",
    "    print (\"c in dna:\",count_c) # print \"c in dna:\" followed by the entry in variable count_c\n",
    "    print (\"g in dna:\",count_g) # print \"g in dna:\" followed by the entry in variable count_g\n",
    "    print (\"GC content is:\", float(dna.count(\"g\") + dna.count(\"c\")) / len(dna) * 100, \"%\", \"\\n\")     \n",
    "else:\n",
    "    print (\"Sequence should be more than 20 base-pairs\")"
   ]
  },
  {
   "cell_type": "markdown",
   "metadata": {},
   "source": [
    "# Loops – for  exercise (Assignment type)\n",
    "1. Ask the user for a DNA code of exactly 10 nucleotides, and check this \n",
    "2. Using “for” start at nucleotide 1 and print one by one until and including nucleotide 5 \n",
    "3. Ask the user to also enter the number of nucleotides to show\n",
    "4. Show the nucleotides in upper case\n",
    "5. Count the number of each nucleotide and report\n",
    "6. Calculate the cg% and report\n",
    "     - Time remaining? \n",
    "7. Ask the user for 2 nucleotides by which to split the sequence and count the number of fragments (and their length)\n",
    "8. Ask the user for a random DNA code with a minimum length of 3 nucleotides and print the last 3 nucleotides going backwards"
   ]
  },
  {
   "cell_type": "code",
   "execution_count": null,
   "metadata": {},
   "outputs": [],
   "source": [
    "# 1. \n",
    "dna = input(\"Enter a dna sequence of 10 nucleotides: \") # ask the user to input a dna sequence and add that to variable dna\n",
    "while (len(dna) != 10): # while the length/number of characters of variable dna is not equal to 10, execute...\n",
    "     # ask the user to input a dna sequence and add that to varibale dna\n",
    "    dna = input(\"Enter a dna sequence of 10 nucleotides: \")"
   ]
  },
  {
   "cell_type": "code",
   "execution_count": null,
   "metadata": {},
   "outputs": [],
   "source": [
    "# 2.\n",
    "for nucl in dna[0:5]: \n",
    "# starts a loop in which for each character in the first 5 character in variable dna, the following code is excuted..\n",
    "    print (nucl) # print the charcter in nucl"
   ]
  },
  {
   "cell_type": "code",
   "execution_count": null,
   "metadata": {},
   "outputs": [],
   "source": [
    "# 3. \n",
    "dna = input(\"Enter a dna sequence of 10 nucleotides: \") # ask the user to input a dna sequence and add that to variable dna\n",
    "show_nuc = int(input(\"Enter number of nucleotides to show: \"))\n",
    "while (len(dna) != 10): # while the length/number of characters of variable dna is not equal to 10, execute...\n",
    "     # ask the user to input a dna sequence and add that to varibale dna\n",
    "    if (len(dna)<10):\n",
    "        print (\"add\",10 - len(dna), \"more\")\n",
    "        dna2 = input(\"Enter a dna sequence of 10 nucleotides: \")\n",
    "        dna = dna + dna2    \n",
    "    elif(len(dna)>10):\n",
    "        print (\"more than 10, only first 10 nucleotides will be used\")\n",
    "        dna = dna[0:10]\n",
    "print (\"Showing the first \" + str(show_nuc) + \" nucleotides \" + dna[0:show_nuc])"
   ]
  },
  {
   "cell_type": "code",
   "execution_count": null,
   "metadata": {},
   "outputs": [],
   "source": [
    "# 4. \n",
    "dna = input(\"Enter a dna sequence of 10 nucleotides: \") # ask the user to input a dna sequence and add that to variable dna\n",
    "show_nuc = int(input(\"Enter number of nucleotides to show: \"))\n",
    "while (len(dna) != 10): # while the length/number of characters of variable dna is not equal to 10, execute...\n",
    "     # ask the user to input a dna sequence and add that to varibale dna\n",
    "    if (len(dna)<10):\n",
    "        print (\"add\",10 - len(dna), \"more\")\n",
    "        dna2 = input(\"Enter a dna sequence of 10 nucleotides: \")\n",
    "        dna = dna + dna2    \n",
    "    elif(len(dna)>10):\n",
    "        print (\"more than 10, only first 10 nucleotides are used\")\n",
    "        dna = dna[0:10]\n",
    "print (\"Showing the first \" + str(show_nuc) + \" nucleotides \" + dna[0:show_nuc].upper())\n"
   ]
  },
  {
   "cell_type": "code",
   "execution_count": null,
   "metadata": {},
   "outputs": [],
   "source": [
    "# 5. and 6.\n",
    "dna = input(\"Enter a dna sequence of 10 nucleotides: \") # ask the user to input a dna sequence and add that to variable dna\n",
    "show_nuc = int(input(\"Enter number of nucleotides to show: \"))\n",
    "while (len(dna) != 10): # while the length/number of characters of variable dna is not equal to 10, execute...\n",
    "     # ask the user to input a dna sequence and add that to varibale dna\n",
    "    if (len(dna)<10):\n",
    "        print (\"add\",10 - len(dna), \"more\")\n",
    "        dna2 = input(\"Enter a dna sequence of 10 nucleotides: \")\n",
    "        dna = dna + dna2    \n",
    "    elif(len(dna)>10):\n",
    "        print (\"more than 10, only first 10 nucleotides are used\")\n",
    "        dna = dna[0:10]\n",
    "print (\"Showing the first \" + str(show_nuc) + \" nucleotides \" + dna[0:show_nuc].upper())\n",
    "\n",
    "count_a = dna.count(\"a\") # .count(\"a\") counts the number of \"a\" in variable dna and adds the number to variable count_a\n",
    "count_c = dna.count(\"c\") # .count(\"c\") counts the number of \"c\" in variable dna and adds the number to variable count_c\n",
    "count_g = dna.count(\"g\") # .count(\"g\") counts the number of \"g\" in variable dna and adds the number to variable count_g\n",
    "count_t = dna.count(\"t\") # .count(\"t\") counts the number of \"t\" in variable dna and adds the number to variable count_t\n",
    "print (\"a in dna:\",count_a) # print \"a in dna:\" followed by the entry in variable count_a\n",
    "print (\"t in dna:\",count_t) # print \"t in dna:\" followed by the entry in variable count_t\n",
    "print (\"c in dna:\",count_c) # print \"c in dna:\" followed by the entry in variable count_c\n",
    "print (\"g in dna:\",count_g) # print \"g in dna:\" followed by the entry in variable count_g\n",
    "    \n",
    "print (\"GC content is:\", float(dna.count(\"g\") + dna.count(\"c\")) / len(dna) * 100, \"%\", \"\\n\")     \n"
   ]
  },
  {
   "cell_type": "code",
   "execution_count": 2,
   "metadata": {},
   "outputs": [
    {
     "name": "stdout",
     "output_type": "stream",
     "text": [
      "Enter a dna sequence of 10 nucleotides: agtg\n",
      "Enter a di-nucleotide to split the sequence: tg\n",
      "add 6 more\n",
      "Enter a dna sequence of 10 nucleotides: gac\n",
      "add 3 more\n",
      "Enter a dna sequence of 10 nucleotides: ag\n",
      "add 1 more\n",
      "Enter a dna sequence of 10 nucleotides: t\n",
      "AGTGGACAGT\n",
      "agtQggacagt\n",
      "['agt', 'ggacagt']\n"
     ]
    }
   ],
   "source": [
    "# 7.\n",
    "dna = input(\"Enter a dna sequence of 10 nucleotides: \") # ask the user to input a dna sequence and add that to variable dna\n",
    "split_by = input(\"Enter a di-nucleotide to split the sequence: \")\n",
    "while (len(dna) != 10): # while the length/number of characters of variable dna is not equal to 10, execute...\n",
    "     # ask the user to input a dna sequence and add that to varibale dna\n",
    "    if (len(dna)<10):\n",
    "        print (\"add\",10 - len(dna), \"more\")\n",
    "        dna2 = input(\"Enter a dna sequence of 10 nucleotides: \")\n",
    "        dna = dna + dna2    \n",
    "    elif(len(dna)>10):\n",
    "        print (\"more than 10, only first 10 nucleotides are used\")\n",
    "        dna = dna[0:10]\n",
    "print (dna.upper())\n",
    "# print dna.split(split_by)\n",
    "split_dna =dna.replace(split_by,split_by[0]+\"Q\"+split_by[1])\n",
    "print (split_dna)\n",
    "print (split_dna.split(\"Q\"))\n",
    "fragments = split_dna.split(\"Q\")"
   ]
  },
  {
   "cell_type": "code",
   "execution_count": 3,
   "metadata": {},
   "outputs": [
    {
     "name": "stdout",
     "output_type": "stream",
     "text": [
      "Enter a dna sequence of 10 nucleotides: actgac\n",
      "Enter a di-nucleotide to split the sequence: ac\n",
      "add 4 more\n",
      "Enter a dna sequence of 10 nucleotides: aaaa\n",
      "ACTGACAAAA\n",
      "aQctgaQcaaaa\n",
      "['a', 'ctga', 'caaaa']\n",
      "a in dna: 1\n",
      "t in dna: 0\n",
      "c in dna: 0\n",
      "g in dna: 0\n",
      "GC content is: 0.0 % \n",
      "\n",
      "a in dna: 1\n",
      "t in dna: 1\n",
      "c in dna: 1\n",
      "g in dna: 1\n",
      "GC content is: 50.0 % \n",
      "\n",
      "a in dna: 4\n",
      "t in dna: 0\n",
      "c in dna: 1\n",
      "g in dna: 0\n",
      "GC content is: 20.0 % \n",
      "\n"
     ]
    }
   ],
   "source": [
    "# 7. extra, also calculate the gc content of the fragments \n",
    "dna = input(\"Enter a dna sequence of 10 nucleotides: \") # ask the user to input a dna sequence and add that to variable dna\n",
    "split_by = input(\"Enter a di-nucleotide to split the sequence: \")\n",
    "while (len(dna) != 10): # while the length/number of characters of variable dna is not equal to 10, execute...\n",
    "     # ask the user to input a dna sequence and add that to varibale dna\n",
    "    if (len(dna)<10):\n",
    "        print (\"add\",10 - len(dna), \"more\")\n",
    "        dna2 = input(\"Enter a dna sequence of 10 nucleotides: \")\n",
    "        dna = dna + dna2    \n",
    "    elif(len(dna)>10):\n",
    "        print (\"more than 10, only first 10 nucleotides are used\")\n",
    "        dna = dna[0:10]\n",
    "print (dna.upper())\n",
    "# print dna.split(split_by)\n",
    "split_dna =dna.replace(split_by,split_by[0]+\"Q\"+split_by[1])\n",
    "print (split_dna)\n",
    "print (split_dna.split(\"Q\"))\n",
    "fragments = split_dna.split(\"Q\")\n",
    "for dna in fragments:\n",
    "    count_a = dna.count(\"a\") # .count(\"a\") counts the number of \"a\" in variable dna and adds the number to variable count_a\n",
    "    count_c = dna.count(\"c\") # .count(\"c\") counts the number of \"c\" in variable dna and adds the number to variable count_c\n",
    "    count_g = dna.count(\"g\") # .count(\"g\") counts the number of \"g\" in variable dna and adds the number to variable count_g\n",
    "    count_t = dna.count(\"t\") # .count(\"t\") counts the number of \"t\" in variable dna and adds the number to variable count_t\n",
    "    print (\"a in dna:\",count_a) # print \"a in dna:\" followed by the entry in variable count_a\n",
    "    print (\"t in dna:\",count_t) # print \"t in dna:\" followed by the entry in variable count_t\n",
    "    print (\"c in dna:\",count_c) # print \"c in dna:\" followed by the entry in variable count_c\n",
    "    print (\"g in dna:\",count_g) # print \"g in dna:\" followed by the entry in variable count_g\n",
    "\n",
    "    print (\"GC content is:\", float(dna.count(\"g\") + dna.count(\"c\")) / len(dna) * 100, \"%\", \"\\n\")\n"
   ]
  },
  {
   "cell_type": "code",
   "execution_count": null,
   "metadata": {},
   "outputs": [],
   "source": [
    "# 8. # hint use google!\n",
    "dna = input(\"Enter a dna sequence of > 3 nucleotides: \") # ask the user to input 3 nucleotides\n",
    "for nucl in dna[::-1][0:3]: \n",
    "# starts a loop in which for each of the 3 nucletides in the reversed dna variable, the following code is executed \n",
    "    print (nucl) # print the character/nucleotide in nucl"
   ]
  }
 ],
 "metadata": {
  "kernelspec": {
   "display_name": "Python 3 (ipykernel)",
   "language": "python",
   "name": "python3"
  },
  "language_info": {
   "codemirror_mode": {
    "name": "ipython",
    "version": 3
   },
   "file_extension": ".py",
   "mimetype": "text/x-python",
   "name": "python",
   "nbconvert_exporter": "python",
   "pygments_lexer": "ipython3",
   "version": "3.9.12"
  }
 },
 "nbformat": 4,
 "nbformat_minor": 1
}
